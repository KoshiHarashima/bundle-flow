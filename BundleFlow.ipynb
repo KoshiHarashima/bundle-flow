{
  "cells": [
    {
      "cell_type": "markdown",
      "metadata": {
        "id": "iEWxyFTdZO2t"
      },
      "source": [
        "# BundleFlow Colab Demo\n",
        "\n",
        "** Rectified Flow–based menus for combinatorial auctions**\n",
        "\n",
        "This notebook demonstrates menu optimization for combinatorial auctions using BundleFlow's new API structure.\n",
        "\n",
        "##  Table of Contents\n",
        "1. [Environment Setup](#setup)\n",
        "2. [New API Structure Demo](#api-demo)\n",
        "3. [Stage1: Flow Initialization](#stage1)\n",
        "4. [Stage2: Menu Optimization](#stage2)\n",
        "5. [Results Visualization](#visualization)\n",
        "\n",
        "---\n"
      ]
    },
    {
      "cell_type": "code",
      "execution_count": 1,
      "metadata": {
        "colab": {
          "base_uri": "https://localhost:8080/"
        },
        "id": "pKolN5ONZO2u",
        "outputId": "5f06c1bc-e5d9-4f71-f342-0b1fdd83f866"
      },
      "outputs": [
        {
          "output_type": "stream",
          "name": "stdout",
          "text": [
            "✅ Matplotlib configuration completed\n"
          ]
        }
      ],
      "source": [
        "# Matplotlib configuration for clean plots\n",
        "import matplotlib.pyplot as plt\n",
        "import matplotlib\n",
        "\n",
        "# Set clean font configuration\n",
        "# Use a font generally available in Colab environments\n",
        "matplotlib.rcParams['font.family'] = ['DejaVu Sans', 'sans-serif']\n",
        "matplotlib.rcParams['axes.unicode_minus'] = False  # Fix minus sign display\n",
        "\n",
        "print(\"✅ Matplotlib configuration completed\")"
      ]
    },
    {
      "cell_type": "markdown",
      "metadata": {
        "id": "sODsPxBbZO2u"
      },
      "source": [
        "## 1. Environment Setup\n",
        "\n",
        "First, let's check the GPU environment and install necessary packages.\n"
      ]
    },
    {
      "cell_type": "code",
      "execution_count": 2,
      "metadata": {
        "colab": {
          "base_uri": "https://localhost:8080/"
        },
        "id": "BvU0Lr0YZO2u",
        "outputId": "06210c07-1644-4f53-c470-363cd8ebc708"
      },
      "outputs": [
        {
          "output_type": "stream",
          "name": "stdout",
          "text": [
            "Mon Oct 13 02:14:07 2025       \n",
            "+-----------------------------------------------------------------------------------------+\n",
            "| NVIDIA-SMI 550.54.15              Driver Version: 550.54.15      CUDA Version: 12.4     |\n",
            "|-----------------------------------------+------------------------+----------------------+\n",
            "| GPU  Name                 Persistence-M | Bus-Id          Disp.A | Volatile Uncorr. ECC |\n",
            "| Fan  Temp   Perf          Pwr:Usage/Cap |           Memory-Usage | GPU-Util  Compute M. |\n",
            "|                                         |                        |               MIG M. |\n",
            "|=========================================+========================+======================|\n",
            "|   0  Tesla T4                       Off |   00000000:00:04.0 Off |                    0 |\n",
            "| N/A   71C    P8             13W /   70W |       0MiB /  15360MiB |      0%      Default |\n",
            "|                                         |                        |                  N/A |\n",
            "+-----------------------------------------+------------------------+----------------------+\n",
            "                                                                                         \n",
            "+-----------------------------------------------------------------------------------------+\n",
            "| Processes:                                                                              |\n",
            "|  GPU   GI   CI        PID   Type   Process name                              GPU Memory |\n",
            "|        ID   ID                                                               Usage      |\n",
            "|=========================================================================================|\n",
            "|  No running processes found                                                             |\n",
            "+-----------------------------------------------------------------------------------------+\n"
          ]
        }
      ],
      "source": [
        "# Check GPU environment\n",
        "!nvidia-smi"
      ]
    },
    {
      "cell_type": "code",
      "execution_count": 3,
      "metadata": {
        "colab": {
          "base_uri": "https://localhost:8080/"
        },
        "id": "qGUft88XZO2v",
        "outputId": "bc617d19-4379-46cb-d506-c4d301a86c29"
      },
      "outputs": [
        {
          "output_type": "stream",
          "name": "stdout",
          "text": [
            "Looking in indexes: https://download.pytorch.org/whl/cu121\n",
            "Requirement already satisfied: torch in /usr/local/lib/python3.12/dist-packages (2.8.0+cu126)\n",
            "Requirement already satisfied: torchvision in /usr/local/lib/python3.12/dist-packages (0.23.0+cu126)\n",
            "Requirement already satisfied: torchaudio in /usr/local/lib/python3.12/dist-packages (2.8.0+cu126)\n",
            "Requirement already satisfied: filelock in /usr/local/lib/python3.12/dist-packages (from torch) (3.20.0)\n",
            "Requirement already satisfied: typing-extensions>=4.10.0 in /usr/local/lib/python3.12/dist-packages (from torch) (4.15.0)\n",
            "Requirement already satisfied: setuptools in /usr/local/lib/python3.12/dist-packages (from torch) (75.2.0)\n",
            "Requirement already satisfied: sympy>=1.13.3 in /usr/local/lib/python3.12/dist-packages (from torch) (1.13.3)\n",
            "Requirement already satisfied: networkx in /usr/local/lib/python3.12/dist-packages (from torch) (3.5)\n",
            "Requirement already satisfied: jinja2 in /usr/local/lib/python3.12/dist-packages (from torch) (3.1.6)\n",
            "Requirement already satisfied: fsspec in /usr/local/lib/python3.12/dist-packages (from torch) (2025.3.0)\n",
            "Requirement already satisfied: nvidia-cuda-nvrtc-cu12==12.6.77 in /usr/local/lib/python3.12/dist-packages (from torch) (12.6.77)\n",
            "Requirement already satisfied: nvidia-cuda-runtime-cu12==12.6.77 in /usr/local/lib/python3.12/dist-packages (from torch) (12.6.77)\n",
            "Requirement already satisfied: nvidia-cuda-cupti-cu12==12.6.80 in /usr/local/lib/python3.12/dist-packages (from torch) (12.6.80)\n",
            "Requirement already satisfied: nvidia-cudnn-cu12==9.10.2.21 in /usr/local/lib/python3.12/dist-packages (from torch) (9.10.2.21)\n",
            "Requirement already satisfied: nvidia-cublas-cu12==12.6.4.1 in /usr/local/lib/python3.12/dist-packages (from torch) (12.6.4.1)\n",
            "Requirement already satisfied: nvidia-cufft-cu12==11.3.0.4 in /usr/local/lib/python3.12/dist-packages (from torch) (11.3.0.4)\n",
            "Requirement already satisfied: nvidia-curand-cu12==10.3.7.77 in /usr/local/lib/python3.12/dist-packages (from torch) (10.3.7.77)\n",
            "Requirement already satisfied: nvidia-cusolver-cu12==11.7.1.2 in /usr/local/lib/python3.12/dist-packages (from torch) (11.7.1.2)\n",
            "Requirement already satisfied: nvidia-cusparse-cu12==12.5.4.2 in /usr/local/lib/python3.12/dist-packages (from torch) (12.5.4.2)\n",
            "Requirement already satisfied: nvidia-cusparselt-cu12==0.7.1 in /usr/local/lib/python3.12/dist-packages (from torch) (0.7.1)\n",
            "Requirement already satisfied: nvidia-nccl-cu12==2.27.3 in /usr/local/lib/python3.12/dist-packages (from torch) (2.27.3)\n",
            "Requirement already satisfied: nvidia-nvtx-cu12==12.6.77 in /usr/local/lib/python3.12/dist-packages (from torch) (12.6.77)\n",
            "Requirement already satisfied: nvidia-nvjitlink-cu12==12.6.85 in /usr/local/lib/python3.12/dist-packages (from torch) (12.6.85)\n",
            "Requirement already satisfied: nvidia-cufile-cu12==1.11.1.6 in /usr/local/lib/python3.12/dist-packages (from torch) (1.11.1.6)\n",
            "Requirement already satisfied: triton==3.4.0 in /usr/local/lib/python3.12/dist-packages (from torch) (3.4.0)\n",
            "Requirement already satisfied: numpy in /usr/local/lib/python3.12/dist-packages (from torchvision) (2.0.2)\n",
            "Requirement already satisfied: pillow!=8.3.*,>=5.3.0 in /usr/local/lib/python3.12/dist-packages (from torchvision) (11.3.0)\n",
            "Requirement already satisfied: mpmath<1.4,>=1.1.0 in /usr/local/lib/python3.12/dist-packages (from sympy>=1.13.3->torch) (1.3.0)\n",
            "Requirement already satisfied: MarkupSafe>=2.0 in /usr/local/lib/python3.12/dist-packages (from jinja2->torch) (3.0.3)\n",
            "Requirement already satisfied: omegaconf in /usr/local/lib/python3.12/dist-packages (2.3.0)\n",
            "Requirement already satisfied: tqdm in /usr/local/lib/python3.12/dist-packages (4.67.1)\n",
            "Requirement already satisfied: numpy in /usr/local/lib/python3.12/dist-packages (2.0.2)\n",
            "Requirement already satisfied: matplotlib in /usr/local/lib/python3.12/dist-packages (3.10.0)\n",
            "Requirement already satisfied: seaborn in /usr/local/lib/python3.12/dist-packages (0.13.2)\n",
            "Requirement already satisfied: antlr4-python3-runtime==4.9.* in /usr/local/lib/python3.12/dist-packages (from omegaconf) (4.9.3)\n",
            "Requirement already satisfied: PyYAML>=5.1.0 in /usr/local/lib/python3.12/dist-packages (from omegaconf) (6.0.3)\n",
            "Requirement already satisfied: contourpy>=1.0.1 in /usr/local/lib/python3.12/dist-packages (from matplotlib) (1.3.3)\n",
            "Requirement already satisfied: cycler>=0.10 in /usr/local/lib/python3.12/dist-packages (from matplotlib) (0.12.1)\n",
            "Requirement already satisfied: fonttools>=4.22.0 in /usr/local/lib/python3.12/dist-packages (from matplotlib) (4.60.1)\n",
            "Requirement already satisfied: kiwisolver>=1.3.1 in /usr/local/lib/python3.12/dist-packages (from matplotlib) (1.4.9)\n",
            "Requirement already satisfied: packaging>=20.0 in /usr/local/lib/python3.12/dist-packages (from matplotlib) (25.0)\n",
            "Requirement already satisfied: pillow>=8 in /usr/local/lib/python3.12/dist-packages (from matplotlib) (11.3.0)\n",
            "Requirement already satisfied: pyparsing>=2.3.1 in /usr/local/lib/python3.12/dist-packages (from matplotlib) (3.2.5)\n",
            "Requirement already satisfied: python-dateutil>=2.7 in /usr/local/lib/python3.12/dist-packages (from matplotlib) (2.9.0.post0)\n",
            "Requirement already satisfied: pandas>=1.2 in /usr/local/lib/python3.12/dist-packages (from seaborn) (2.2.2)\n",
            "Requirement already satisfied: pytz>=2020.1 in /usr/local/lib/python3.12/dist-packages (from pandas>=1.2->seaborn) (2025.2)\n",
            "Requirement already satisfied: tzdata>=2022.7 in /usr/local/lib/python3.12/dist-packages (from pandas>=1.2->seaborn) (2025.2)\n",
            "Requirement already satisfied: six>=1.5 in /usr/local/lib/python3.12/dist-packages (from python-dateutil>=2.7->matplotlib) (1.17.0)\n"
          ]
        }
      ],
      "source": [
        "# Install required packages\n",
        "%pip install torch torchvision torchaudio --index-url https://download.pytorch.org/whl/cu121\n",
        "%pip install omegaconf tqdm numpy matplotlib seaborn\n"
      ]
    },
    {
      "cell_type": "code",
      "execution_count": 4,
      "metadata": {
        "colab": {
          "base_uri": "https://localhost:8080/"
        },
        "id": "AbnPPvYMZO2v",
        "outputId": "dc57925a-cb1a-4d1d-95c4-264191ee2233"
      },
      "outputs": [
        {
          "output_type": "stream",
          "name": "stdout",
          "text": [
            "PyTorch version: 2.8.0+cu126\n",
            "CUDA available: True\n",
            "GPU: Tesla T4\n",
            "GPU Memory: 15.8 GB\n"
          ]
        }
      ],
      "source": [
        "# Check PyTorch and CUDA\n",
        "import torch\n",
        "print(f\"PyTorch version: {torch.__version__}\")\n",
        "print(f\"CUDA available: {torch.cuda.is_available()}\")\n",
        "if torch.cuda.is_available():\n",
        "    print(f\"GPU: {torch.cuda.get_device_name(0)}\")\n",
        "    print(f\"GPU Memory: {torch.cuda.get_device_properties(0).total_memory / 1e9:.1f} GB\")\n"
      ]
    },
    {
      "cell_type": "code",
      "execution_count": 5,
      "metadata": {
        "colab": {
          "base_uri": "https://localhost:8080/"
        },
        "id": "PbirvEvSZO2v",
        "outputId": "beaef894-7f7b-480f-c4ce-5fe9677c04b8"
      },
      "outputs": [
        {
          "output_type": "stream",
          "name": "stdout",
          "text": [
            "/content/bundle-flow\n"
          ]
        }
      ],
      "source": [
        "# Colab-specific setup\n",
        "%cd /content/bundle-flow\n",
        "import sys\n",
        "sys.path.append('/content/bundle-flow/bundleflow')"
      ]
    },
    {
      "cell_type": "markdown",
      "metadata": {
        "id": "LIhxYfBMZO2v"
      },
      "source": [
        "## 2. Demo\n",
        "\n",
        "Let's introduce BundleFlow.\n"
      ]
    },
    {
      "cell_type": "code",
      "execution_count": 6,
      "metadata": {
        "colab": {
          "base_uri": "https://localhost:8080/"
        },
        "id": "CtPXX3hOZO2v",
        "outputId": "76ba6794-3059-45ee-8aa0-74d67c312c9a"
      },
      "outputs": [
        {
          "output_type": "stream",
          "name": "stdout",
          "text": [
            " New API structure import completed\n",
            "PyTorch device: cuda\n"
          ]
        }
      ],
      "source": [
        "import sys\n",
        "import os\n",
        "import torch\n",
        "import numpy as np\n",
        "import matplotlib.pyplot as plt\n",
        "import seaborn as sns\n",
        "\n",
        "# BundleFlow's new API\n",
        "from bundleflow.models.flow import BundleFlow\n",
        "from bundleflow.models.menu import MenuElement, Mechanism\n",
        "from bundleflow.valuation.valuation import XORValuation\n",
        "\n",
        "print(\" New API structure import completed\")\n",
        "print(f\"PyTorch device: {'cuda' if torch.cuda.is_available() else 'cpu'}\")\n"
      ]
    },
    {
      "cell_type": "code",
      "execution_count": 7,
      "metadata": {
        "colab": {
          "base_uri": "https://localhost:8080/"
        },
        "id": "bLHTs708ZO2v",
        "outputId": "39aa6d5a-4b66-4224-d59a-9d66437ac25f"
      },
      "outputs": [
        {
          "output_type": "stream",
          "name": "stdout",
          "text": [
            "Using device: cuda\n",
            "BundleFlow created with m=10\n",
            "Velocity field shape: torch.Size([3, 10])\n",
            "MenuElement created with price: 0.1496\n",
            "XORValuation value: 8.0000\n"
          ]
        }
      ],
      "source": [
        "# Basic API demonstration\n",
        "device = torch.device('cuda' if torch.cuda.is_available() else 'cpu')\n",
        "print(f\"Using device: {device}\")\n",
        "\n",
        "# 1. Create BundleFlow (velocity field network)\n",
        "m = 10  # Number of items\n",
        "flow = BundleFlow(m=m).to(device)\n",
        "print(f\"BundleFlow created with m={m}\")\n",
        "\n",
        "# 2. Calculate velocity field\n",
        "x = torch.randn(3, m, device=device)\n",
        "t = torch.rand(3, device=device)\n",
        "v = flow.velocity(x, t)\n",
        "print(f\"Velocity field shape: {v.shape}\")\n",
        "\n",
        "# 3. Create MenuElement (menu element)\n",
        "D = 5  # Number of mixture components for initial distribution\n",
        "elem = MenuElement(m=m, D=D).to(device)\n",
        "price = elem.price()\n",
        "print(f\"MenuElement created with price: {price.detach().item():.4f}\")\n",
        "\n",
        "# 4. Create XORValuation (valuation function)\n",
        "atoms = [([1, 2, 3], 5.0), ([4, 5], 3.0), ([6, 7, 8, 9], 8.0)]\n",
        "valuation = XORValuation.from_bundle_list(m, atoms)\n",
        "bundle = torch.tensor([1.0, 1.0, 1.0, 0.0, 0.0, 1.0, 1.0, 1.0, 1.0, 0.0])\n",
        "value = valuation.value(bundle)\n",
        "print(f\"XORValuation value: {value:.4f}\")\n"
      ]
    },
    {
      "cell_type": "markdown",
      "metadata": {
        "id": "5RGVYdXJZO2v"
      },
      "source": [
        "## 3. Stage1: Flow Initialization\n",
        "\n",
        "Train the velocity field network to learn the transformation from continuous variables to discrete bundles.\n"
      ]
    },
    {
      "cell_type": "code",
      "execution_count": 8,
      "metadata": {
        "colab": {
          "base_uri": "https://localhost:8080/"
        },
        "id": "epBI6Z0PZO2w",
        "outputId": "f35da12e-7d4e-4202-e7ae-e8c44fda0690"
      },
      "outputs": [
        {
          "output_type": "stream",
          "name": "stdout",
          "text": [
            "Stage1 Configuration:\n",
            "  m: 10\n",
            "  D: 4\n",
            "  iters: 5000\n",
            "  batch: 512\n",
            "  lr: 0.0005\n",
            "  sigma_z: 0.05\n",
            "  ode_steps: 50\n",
            "  seed: 42\n"
          ]
        }
      ],
      "source": [
        "# Stage1 configuration (10 items and small settings)\n",
        "stage1_config = {\n",
        "    'm': 10,           # Number of items (small scale)\n",
        "    'D': 4,           # Number of mixture components\n",
        "    'iters': 5000,    # Number of iterations (shortened for demo)\n",
        "    'batch': 512,     # Batch size\n",
        "    'lr': 5e-4,       # Learning rate\n",
        "    'sigma_z': 0.05,  # Noise standard deviation\n",
        "    'ode_steps': 50,  # ODE integration steps\n",
        "    'seed': 42\n",
        "}\n",
        "\n",
        "print(\"Stage1 Configuration:\")\n",
        "for key, value in stage1_config.items():\n",
        "    print(f\"  {key}: {value}\")\n"
      ]
    },
    {
      "cell_type": "code",
      "execution_count": 9,
      "metadata": {
        "colab": {
          "base_uri": "https://localhost:8080/"
        },
        "id": "dLH4SjvTZO2w",
        "outputId": "c62d6253-593f-457a-c944-c336534322a0"
      },
      "outputs": [
        {
          "output_type": "stream",
          "name": "stdout",
          "text": [
            "Stage1 training started (device: cuda)\n",
            "Model parameters: 51,685\n",
            "[100/5000] Loss: 1.315420 Time: 2.4s\n",
            "[200/5000] Loss: 1.269985 Time: 3.9s\n",
            "[300/5000] Loss: 1.279172 Time: 4.8s\n",
            "[400/5000] Loss: 1.252918 Time: 5.9s\n",
            "[500/5000] Loss: 1.232276 Time: 7.0s\n",
            "[600/5000] Loss: 1.224028 Time: 8.1s\n",
            "[700/5000] Loss: 1.225463 Time: 9.5s\n",
            "[800/5000] Loss: 1.243153 Time: 10.6s\n",
            "[900/5000] Loss: 1.256294 Time: 11.6s\n",
            "[1000/5000] Loss: 1.195550 Time: 12.5s\n",
            "[1100/5000] Loss: 1.267641 Time: 13.9s\n",
            "[1200/5000] Loss: 1.223283 Time: 15.3s\n",
            "[1300/5000] Loss: 1.260290 Time: 16.0s\n",
            "[1400/5000] Loss: 1.240617 Time: 16.5s\n",
            "[1500/5000] Loss: 1.275440 Time: 17.0s\n",
            "[1600/5000] Loss: 1.248467 Time: 17.5s\n",
            "[1700/5000] Loss: 1.223279 Time: 18.0s\n",
            "[1800/5000] Loss: 1.218199 Time: 18.5s\n",
            "[1900/5000] Loss: 1.221746 Time: 19.0s\n",
            "[2000/5000] Loss: 1.239031 Time: 19.5s\n",
            "[2100/5000] Loss: 1.226245 Time: 20.0s\n",
            "[2200/5000] Loss: 1.243025 Time: 20.5s\n",
            "[2300/5000] Loss: 1.277249 Time: 21.1s\n",
            "[2400/5000] Loss: 1.265564 Time: 21.6s\n",
            "[2500/5000] Loss: 1.262497 Time: 22.1s\n",
            "[2600/5000] Loss: 1.248201 Time: 22.6s\n",
            "[2700/5000] Loss: 1.213098 Time: 23.1s\n",
            "[2800/5000] Loss: 1.221952 Time: 23.7s\n",
            "[2900/5000] Loss: 1.238190 Time: 24.2s\n",
            "[3000/5000] Loss: 1.223058 Time: 24.7s\n",
            "[3100/5000] Loss: 1.221192 Time: 25.2s\n",
            "[3200/5000] Loss: 1.229893 Time: 25.7s\n",
            "[3300/5000] Loss: 1.211992 Time: 26.4s\n",
            "[3400/5000] Loss: 1.228898 Time: 27.0s\n",
            "[3500/5000] Loss: 1.210372 Time: 27.7s\n",
            "[3600/5000] Loss: 1.216638 Time: 28.3s\n",
            "[3700/5000] Loss: 1.278148 Time: 28.8s\n",
            "[3800/5000] Loss: 1.244845 Time: 29.3s\n",
            "[3900/5000] Loss: 1.192776 Time: 29.8s\n",
            "[4000/5000] Loss: 1.255460 Time: 30.3s\n",
            "[4100/5000] Loss: 1.233543 Time: 30.8s\n",
            "[4200/5000] Loss: 1.213045 Time: 31.3s\n",
            "[4300/5000] Loss: 1.231731 Time: 31.9s\n",
            "[4400/5000] Loss: 1.215064 Time: 32.4s\n",
            "[4500/5000] Loss: 1.231556 Time: 32.9s\n",
            "[4600/5000] Loss: 1.169773 Time: 33.4s\n",
            "[4700/5000] Loss: 1.273479 Time: 33.9s\n",
            "[4800/5000] Loss: 1.235491 Time: 34.4s\n",
            "[4900/5000] Loss: 1.261251 Time: 34.9s\n",
            "[5000/5000] Loss: 1.236228 Time: 35.4s\n",
            "✅ Stage1 training completed! Final loss: 1.236228\n",
            "Total training time: 35.4 seconds\n"
          ]
        }
      ],
      "source": [
        "# Execute Stage1 training\n",
        "# the result will be flollowing : At first, it drops down dramatically , then it fluctuates.\n",
        "import random\n",
        "import time\n",
        "from torch import optim\n",
        "\n",
        "# Set random seeds\n",
        "random.seed(stage1_config['seed'])\n",
        "torch.manual_seed(stage1_config['seed'])\n",
        "if torch.cuda.is_available():\n",
        "    torch.cuda.manual_seed_all(stage1_config['seed'])\n",
        "\n",
        "# Create flow model\n",
        "flow = BundleFlow(m=stage1_config['m']).to(device)\n",
        "optimizer = optim.Adam(flow.parameters(), lr=stage1_config['lr'])\n",
        "\n",
        "# Initial distribution (mixture of Gaussians)\n",
        "mus = torch.empty(stage1_config['D'], stage1_config['m'], device=device).uniform_(-0.2, 1.2)\n",
        "sigmas = torch.full((stage1_config['D'],), 0.5, device=device)\n",
        "weights = torch.full((stage1_config['D'],), 1.0 / stage1_config['D'], device=device)\n",
        "\n",
        "print(f\"Stage1 training started (device: {device})\")\n",
        "print(f\"Model parameters: {sum(p.numel() for p in flow.parameters()):,}\")\n",
        "\n",
        "# Training loop\n",
        "losses = []\n",
        "start_time = time.time()\n",
        "\n",
        "for it in range(1, stage1_config['iters'] + 1):\n",
        "    # Calculate Rectified Flow loss\n",
        "    loss = flow.rectified_flow_loss(\n",
        "        B=stage1_config['batch'],\n",
        "        mus=mus, sigmas=sigmas, weights=weights,\n",
        "        sigma_z=stage1_config['sigma_z']\n",
        "    )\n",
        "\n",
        "    # Optimization\n",
        "    optimizer.zero_grad()\n",
        "    loss.backward()\n",
        "    optimizer.step()\n",
        "\n",
        "    losses.append(loss.detach().item())\n",
        "\n",
        "    # Progress display\n",
        "    if it % 100 == 0:\n",
        "        elapsed = time.time() - start_time\n",
        "        print(f\"[{it}/{stage1_config['iters']}] Loss: {loss.detach().item():.6f} Time: {elapsed:.1f}s\")\n",
        "\n",
        "print(f\"✅ Stage1 training completed! Final loss: {losses[-1]:.6f}\")\n",
        "print(f\"Total training time: {time.time() - start_time:.1f} seconds\")\n"
      ]
    },
    {
      "cell_type": "code",
      "execution_count": 10,
      "metadata": {
        "colab": {
          "base_uri": "https://localhost:8080/",
          "height": 425
        },
        "id": "xBIxylZQZO2w",
        "outputId": "6972a800-84dc-4479-e5df-8df0ffa301e1"
      },
      "outputs": [
        {
          "output_type": "display_data",
          "data": {
            "text/plain": [
              "<Figure size 1200x400 with 2 Axes>"
            ],
            "image/png": "[encoded data removed]"
          },
          "metadata": {}
        },
        {
          "output_type": "stream",
          "name": "stdout",
          "text": [
            "Generated bundle diversity: 0.076 (78/1024 unique bundles)\n"
          ]
        }
      ],
      "source": [
        "# Stage1 results visualization\n",
        "plt.figure(figsize=(12, 4))\n",
        "\n",
        "# Loss progression\n",
        "plt.subplot(1, 2, 1)\n",
        "plt.plot(losses)\n",
        "plt.title('Stage1: Rectified Flow Loss')\n",
        "plt.xlabel('Iteration')\n",
        "plt.ylabel('Loss')\n",
        "plt.yscale('log')\n",
        "plt.grid(True, alpha=0.3)\n",
        "\n",
        "# Bundle generation test\n",
        "plt.subplot(1, 2, 2)\n",
        "with torch.no_grad():\n",
        "    # Generate bundles from random initial values\n",
        "    z = torch.randn(100, stage1_config['m'], device=device)\n",
        "    t_grid = torch.linspace(0.0, 1.0, steps=stage1_config['ode_steps'], device=device)\n",
        "    x_T = flow.flow_forward(z, t_grid)\n",
        "    bundles = flow.round_to_bundle(x_T)\n",
        "\n",
        "    # Calculate bundle diversity\n",
        "    unique_bundles = torch.unique(bundles, dim=0)\n",
        "    diversity = len(unique_bundles) / (2 ** stage1_config['m'])\n",
        "\n",
        "    # Visualize bundle distribution\n",
        "    bundle_sizes = bundles.sum(dim=1).detach().cpu().numpy()\n",
        "    plt.hist(bundle_sizes, bins=range(stage1_config['m']+2), alpha=0.7, edgecolor='black')\n",
        "    plt.title(f'Bundle Size Distribution\\\\nDiversity: {diversity:.3f}')\n",
        "    plt.xlabel('Bundle Size')\n",
        "    plt.ylabel('Count')\n",
        "    plt.grid(True, alpha=0.3)\n",
        "\n",
        "plt.tight_layout()\n",
        "plt.show()\n",
        "\n",
        "print(f\"Generated bundle diversity: {diversity:.3f} ({len(unique_bundles)}/{2**stage1_config['m']} unique bundles)\")\n"
      ]
    },
    {
      "cell_type": "code",
      "execution_count": 13,
      "metadata": {
        "id": "HHMX2hn1ZO2w"
      },
      "outputs": [],
      "source": [
        "# === GPU Monitoring Helper Functions ============================================\n",
        "import inspect\n",
        "\n",
        "CANDIDATE_ATTRS = [\"as_tensor\", \"to_tensor\", \"tensor\",\n",
        "                   \"x\", \"vec\", \"features\", \"data\", \"value_vec\", \"params\"]\n",
        "\n",
        "def extract_feature_like(v):\n",
        "    \"\"\"\n",
        "    Extract \"feature vector\" from Valuation object v.\n",
        "    - Call zero-argument methods (as_tensor/to_tensor etc.).\n",
        "    - Skip methods that require arguments (value(s_bool) etc.).\n",
        "    - Search for typical attribute names in order.\n",
        "    - For XORValuation, construct feature vector from atoms.\n",
        "    \"\"\"\n",
        "    # XORValuationの特別処理\n",
        "    if hasattr(v, 'atoms') and hasattr(v, 'm'):\n",
        "        # XORValuationの場合：atomsから特徴ベクトルを構築\n",
        "        m = v.m\n",
        "        feature_vec = torch.zeros(m, dtype=torch.float32)\n",
        "\n",
        "        # 各atomの価格を対応する商品位置に加算\n",
        "        for mask, price in v.atoms:\n",
        "            for i in range(m):\n",
        "                if mask & (1 << i):  # ビットiが立っている場合\n",
        "                    feature_vec[i] += price\n",
        "\n",
        "        return feature_vec\n",
        "\n",
        "    # 無引数メソッド候補\n",
        "    for name in [\"as_tensor\", \"to_tensor\"]:\n",
        "        if hasattr(v, name) and callable(getattr(v, name)):\n",
        "            fn = getattr(v, name)\n",
        "            try:\n",
        "                sig = inspect.signature(fn)\n",
        "                if len([p for p in sig.parameters.values()\n",
        "                        if p.default is p.empty and p.kind in (p.POSITIONAL_ONLY, p.POSITIONAL_OR_KEYWORD)]) == 0:\n",
        "                    return fn()  # 無引数なら呼び出し\n",
        "            except (ValueError, TypeError):\n",
        "                # signatureが取れない場合は呼んでみる\n",
        "                try:\n",
        "                    return fn()\n",
        "                except Exception:\n",
        "                    pass\n",
        "\n",
        "    # 属性候補\n",
        "    for name in [\"tensor\", \"x\", \"vec\", \"features\", \"data\", \"value_vec\", \"params\"]:\n",
        "        if hasattr(v, name):\n",
        "            return getattr(v, name)\n",
        "\n",
        "    # デバッグ用の情報を投げる\n",
        "    public = [a for a in dir(v) if not a.startswith(\"_\")]\n",
        "    raise TypeError(\n",
        "        \"Could not extract feature vector from valuation.\\n\"\n",
        "        f\"type={type(v)}\\n\"\n",
        "        f\"public={public}\\n\"\n",
        "        \"→ v.x / v.vec / v.features 等の属性名をCANDIDATE_ATTRSへ追加すること。\"\n",
        "    )\n",
        "\n",
        "def to_tensor_1d(x, device):\n",
        "    if torch.is_tensor(x):\n",
        "        t = x\n",
        "    elif isinstance(x, (list, tuple)):\n",
        "        t = torch.tensor(x)\n",
        "    elif isinstance(x, (int, float)):\n",
        "        t = torch.tensor([x])\n",
        "    else:\n",
        "        try:\n",
        "            t = torch.as_tensor(x)\n",
        "        except Exception as e:\n",
        "            raise TypeError(f\"Unsupported feature payload: {type(x)}; err={e}\")\n",
        "    return t.to(device=device, dtype=torch.float32, non_blocking=True).flatten()\n",
        "\n",
        "def batch_to_tensor(batch_list, device):\n",
        "    vecs = []\n",
        "    for v in batch_list:\n",
        "        raw = extract_feature_like(v)\n",
        "        vecs.append(to_tensor_1d(raw, device))\n",
        "    # 長さチェック\n",
        "    dims = {t.numel() for t in vecs}\n",
        "    if len(dims) != 1:\n",
        "        raise ValueError(f\"Feature length mismatch across batch: {sorted(dims)}\")\n",
        "    return torch.stack(vecs, dim=0)  # [B, D]\n"
      ]
    },
    {
      "cell_type": "markdown",
      "metadata": {
        "id": "roaMfRvrZO2w"
      },
      "source": [
        "## 4. Stage2: Menu Optimization\n",
        "\n",
        "Use the trained velocity field to optimize menu elements (prices and initial distributions).\n"
      ]
    },
    {
      "cell_type": "code",
      "source": [
        "# Import required modules for β parameter freeze control\n",
        "import torch\n",
        "import torch.nn as nn\n",
        "import torch.optim as optim\n",
        "import random\n",
        "import time\n",
        "import numpy as np\n",
        "from typing import List, Dict, Any\n"
      ],
      "metadata": {
        "id": "-eucsOE9YNPs"
      },
      "execution_count": null,
      "outputs": []
    },
    {
      "cell_type": "code",
      "source": [
        "# Import BundleFlow modules\n",
        "from bundleflow.models.flow import BundleFlow\n",
        "from bundleflow.models.menu import MenuElement, make_null_element\n",
        "from bundleflow.valuation.valuation import XORValuation\n",
        "from bundleflow.data import gen_uniform_iid_xor"
      ],
      "metadata": {
        "id": "2iS05UEEYLWF"
      },
      "execution_count": null,
      "outputs": []
    },
    {
      "cell_type": "code",
      "source": [
        "# βパラメータ凍結制御付きStage2学習関数\n",
        "def run_stage2_with_beta_freeze_control(flow_model, config, device):\n",
        "    \"\"\"\n",
        "    βパラメータの凍結制御を統合したStage2学習\n",
        "\n",
        "    Args:\n",
        "        flow_model: Stage1で学習済みのBundleFlowモデル\n",
        "        config: 学習設定辞書\n",
        "        device: 使用デバイス\n",
        "\n",
        "    Returns:\n",
        "        revenues: 収益の推移\n",
        "        menu: 学習済みメニュー\n",
        "        ir_rates: IR制約満足率の推移\n",
        "    \"\"\"\n",
        "\n",
        "    print(\"🚀 Stage2学習開始（βパラメータ凍結制御付き）\")\n",
        "\n",
        "    # FlowモデルをGPUに移動し、凍結\n",
        "    flow_gpu = flow_model.to(device)\n",
        "    flow_gpu.eval()\n",
        "    for p in flow_gpu.parameters():\n",
        "        p.requires_grad_(False)\n",
        "    print(f\"✅ Flow model moved to {device} and frozen\")\n",
        "\n",
        "    # メニュー要素をGPU上で作成\n",
        "    menu = []\n",
        "    for _ in range(config['K']):\n",
        "        elem = MenuElement(m=config['m'], D=config['D'])\n",
        "        elem = elem.to(device)\n",
        "        menu.append(elem)\n",
        "\n",
        "    # null要素もGPU上で作成\n",
        "    null_elem = make_null_element(config['m']).to(device)\n",
        "    menu.append(null_elem)\n",
        "\n",
        "    # 評価関数を生成\n",
        "    V = []\n",
        "    print(f\"📊 Creating {config['n_val']} XOR valuations...\")\n",
        "    for i in range(config['n_val']):\n",
        "        if i % 100 == 0:\n",
        "            print(f\"  Creating valuation {i+1}/{config['n_val']}\")\n",
        "        v = gen_uniform_iid_xor(\n",
        "            m=config['m'],\n",
        "            a=config['a'],\n",
        "            low=0.0,\n",
        "            high=1.0,\n",
        "            seed=config['seed'] + i,\n",
        "            atom_size_mode=\"small\"\n",
        "        )\n",
        "        V.append(v)\n",
        "\n",
        "    print(f\"✅ Created {len(menu)} menu elements and {len(V)} valuations\")\n",
        "\n",
        "    # βパラメータの凍結制御設定\n",
        "    freeze_beta_iters = config.get('freeze_beta_iters', 1000)\n",
        "    beta_unfrozen = False\n",
        "\n",
        "    # パラメータの分離\n",
        "    mu_w_params = []\n",
        "    beta_params = []\n",
        "\n",
        "    for elem in menu[:-1]:  # null要素は除外\n",
        "        mu_w_params.extend([elem.mus, elem.logits])\n",
        "        beta_params.append(elem.beta_raw)\n",
        "\n",
        "    # 初期オプティマイザー（μとwのみ）\n",
        "    optimizer = optim.Adam(mu_w_params, lr=config['lr'])\n",
        "    print(f\"🚀 Initial optimizer: {len(mu_w_params)} parameters (μ/w only)\")\n",
        "\n",
        "    # 学習ループ\n",
        "    revenues = []\n",
        "    ir_satisfaction_rates = []\n",
        "    start_time = time.time()\n",
        "\n",
        "    for it in range(1, config['iters'] + 1):\n",
        "        # βの凍結解除（warmup期間後）\n",
        "        if not beta_unfrozen and it > freeze_beta_iters:\n",
        "            print(f\"\\n[Iteration {it}] Unfreezing β parameters...\")\n",
        "            all_params = mu_w_params + beta_params\n",
        "            optimizer = optim.Adam(all_params, lr=config['lr'])\n",
        "            beta_unfrozen = True\n",
        "            print(f\"[Iteration {it}] Now optimizing {len(all_params)} parameters (μ/w/β)\")\n",
        "\n",
        "        # バッチデータを準備\n",
        "        batch_size = min(config['batch'], len(V))\n",
        "        batch_V = random.sample(V, batch_size)\n",
        "\n",
        "        # ウォームアップ対応の温度スケジューリング\n",
        "        warmup_iters = config.get('warmup_iters', 500)\n",
        "        if it <= warmup_iters:\n",
        "            lam = config['lam_start'] * (it / warmup_iters)\n",
        "        else:\n",
        "            progress = (it - warmup_iters) / (config['iters'] - warmup_iters)\n",
        "            lam = config['lam_start'] + (config['lam_end'] - config['lam_start']) * progress\n",
        "\n",
        "        # 時間グリッドをGPU上で作成\n",
        "        t_grid = torch.linspace(0.0, 1.0, steps=config['ode_steps'], device=device)\n",
        "\n",
        "        # 効用行列を計算\n",
        "        U = utilities_matrix_optimized(flow_gpu, batch_V, menu, t_grid)\n",
        "        beta = torch.stack([elem.beta for elem in menu]).squeeze()\n",
        "\n",
        "        # Softmax割当\n",
        "        Z = torch.softmax(lam * U, dim=1)\n",
        "\n",
        "        # IR制約の明示的適用\n",
        "        selected_idx = torch.argmax(Z, dim=1)\n",
        "        selected_utility = torch.gather(U, 1, selected_idx.unsqueeze(1)).squeeze(1)\n",
        "        ir_mask = (selected_utility >= 0.0).float()\n",
        "\n",
        "        # 収益計算（IR制約付き）\n",
        "        rev_per_buyer = (Z * beta.unsqueeze(0)).sum(dim=1) * ir_mask\n",
        "        revenue = rev_per_buyer.mean()\n",
        "        loss = -revenue\n",
        "\n",
        "        # 最適化\n",
        "        optimizer.zero_grad(set_to_none=True)\n",
        "        loss.backward()\n",
        "        torch.nn.utils.clip_grad_norm_(all_params if beta_unfrozen else mu_w_params, config['grad_clip'])\n",
        "        optimizer.step()\n",
        "\n",
        "        # 記録\n",
        "        revenues.append(revenue.detach().item())\n",
        "        ir_satisfaction_rates.append(ir_mask.mean().item())\n",
        "\n",
        "        # 進捗表示\n",
        "        if it % 50 == 0:\n",
        "            elapsed = time.time() - start_time\n",
        "            beta_status = \"β unfrozen\" if beta_unfrozen else \"β frozen\"\n",
        "            print(f\"[{it}/{config['iters']}] Revenue: {revenues[-1]:.6f} λ:{lam:.4f} IR:{ir_satisfaction_rates[-1]:.3f} {beta_status} Time:{elapsed:.1f}s\")\n",
        "\n",
        "    print(f\"✅ Stage2学習完了! 最終収益: {revenues[-1]:.6f}\")\n",
        "    print(f\"最終IR制約満足率: {ir_satisfaction_rates[-1]:.3f}\")\n",
        "    print(f\"総学習時間: {time.time() - start_time:.1f}秒\")\n",
        "\n",
        "    return revenues, menu, ir_satisfaction_rates\n",
        "\n",
        "# 効用行列計算関数（最適化版）\n",
        "def utilities_matrix_optimized(flow, V, menu, t_grid):\n",
        "    \"\"\"\n",
        "    最適化された効用行列計算\n",
        "    \"\"\"\n",
        "    K = len(menu)\n",
        "    B = len(V)\n",
        "    device = t_grid.device\n",
        "\n",
        "    # メニュー要素の分離\n",
        "    menu_main = menu[:-1]\n",
        "    null_elem = menu[-1]\n",
        "    K_main = len(menu_main)\n",
        "\n",
        "    # 全メニュー要素のパラメータを統合\n",
        "    all_mus = torch.stack([elem.mus for elem in menu_main])\n",
        "    all_weights = torch.stack([elem.weights for elem in menu_main])\n",
        "    all_betas = torch.stack([elem.beta for elem in menu_main]).squeeze()\n",
        "\n",
        "    K_main, D, m = all_mus.shape\n",
        "\n",
        "    # 全μをバッチ処理\n",
        "    mus_flat = all_mus.view(K_main * D, m)\n",
        "    sT_flat = flow.flow_forward(mus_flat, t_grid)\n",
        "    s_flat = flow.round_to_bundle(sT_flat)\n",
        "\n",
        "    # 密度重みもバッチ処理\n",
        "    log_density_flat = flow.log_density_weight(mus_flat, t_grid)\n",
        "    log_density_flat = torch.clamp(log_density_flat, -10.0, 0.0)\n",
        "    log_density = log_density_flat.view(K_main, D)\n",
        "\n",
        "    # null要素も処理\n",
        "    null_sT = flow.flow_forward(null_elem.mus, t_grid)\n",
        "    null_s = flow.round_to_bundle(null_sT)\n",
        "    null_log_density = flow.log_density_weight(null_elem.mus, t_grid)\n",
        "    null_log_density = torch.clamp(null_log_density, -10.0, 0.0)\n",
        "    null_weight = null_elem.weights\n",
        "    null_beta = null_elem.beta\n",
        "\n",
        "    # 効用行列を初期化\n",
        "    U = torch.zeros(B, K, device=device, dtype=torch.float32)\n",
        "\n",
        "    # 各valuationについて効用を計算\n",
        "    s_flat_cpu = s_flat.cpu()\n",
        "\n",
        "    for i, v in enumerate(V):\n",
        "        # バッチ価値計算\n",
        "        if hasattr(v, 'batch_value'):\n",
        "            vals_flat = v.batch_value(s_flat_cpu).to(device)\n",
        "        else:\n",
        "            vals_flat = torch.tensor([v.value(s_flat_cpu[j]) for j in range(K_main*D)], device=device, dtype=torch.float32)\n",
        "\n",
        "        vals = vals_flat.view(K_main, D)\n",
        "\n",
        "        # log-sum-exp計算\n",
        "        log_w = torch.log(all_weights + 1e-10)\n",
        "        log_weights = log_w + log_density\n",
        "        log_weights = torch.clamp(log_weights, -50.0, 50.0)\n",
        "\n",
        "        M = torch.max(log_weights, dim=1, keepdim=True)[0]\n",
        "        weighted_sum = (torch.exp(log_weights - M) * vals).sum(dim=1)\n",
        "        u_main = torch.exp(M.squeeze(1)) * weighted_sum - all_betas\n",
        "\n",
        "        # null要素の効用\n",
        "        if hasattr(v, 'value'):\n",
        "            null_val = v.value(null_s[0])\n",
        "        else:\n",
        "            null_val = 0.0\n",
        "        log_w_null = torch.log(null_weight + 1e-10)\n",
        "        log_weight_null = log_w_null + null_log_density\n",
        "        u_null = torch.exp(log_weight_null[0]) * null_val - null_beta\n",
        "\n",
        "        # 効用行列に格納\n",
        "        U[i, :-1] = u_main\n",
        "        U[i, -1] = u_null\n",
        "\n",
        "    return U\n",
        "\n",
        "print(\"✅ βパラメータ凍結制御付きStage2学習関数が定義されました\")\n",
        "\n",
        "# 使用例: Stage2学習の実行\n",
        "def run_stage2_example():\n",
        "    \"\"\"\n",
        "    βパラメータ凍結制御付きStage2学習の使用例\n",
        "    \"\"\"\n",
        "\n",
        "    # デバイス設定\n",
        "    device = torch.device('cuda' if torch.cuda.is_available() else 'cpu')\n",
        "    print(f\"Using device: {device}\")\n",
        "\n",
        "    # 学習設定\n",
        "    stage2_config = {\n",
        "        'm': 10,                    # 商品数\n",
        "        'K': 16,                    # メニュー要素数\n",
        "        'D': 4,                     # 混合成分数\n",
        "        'iters': 2000,              # イテレーション数（デモ用に短縮）\n",
        "        'batch': 64,                # バッチサイズ\n",
        "        'lr': 1e-3,                 # 学習率\n",
        "        'lam_start': 0.5,           # SoftMax温度開始値\n",
        "        'lam_end': 0.1,             # SoftMax温度終了値\n",
        "        'ode_steps': 25,            # ODE積分ステップ数\n",
        "        'n_val': 200,               # 評価関数数\n",
        "        'a': 32,                    # XOR原子数\n",
        "        'seed': 42,                 # 乱数シード\n",
        "        'grad_clip': 1.0,           # 勾配クリッピング\n",
        "        'freeze_beta_iters': 1000,  # βパラメータ凍結期間\n",
        "        'warmup_iters': 500,        # ウォームアップ期間\n",
        "    }\n",
        "\n",
        "    print(\"Stage2設定:\")\n",
        "    for key, value in stage2_config.items():\n",
        "        print(f\"  {key}: {value}\")\n",
        "\n",
        "    # Stage1で学習済みのflowモデルが必要\n",
        "    if 'flow' not in globals():\n",
        "        print(\"❌ Stage1で学習済みのflowモデルが必要です。\")\n",
        "        print(\"   先にStage1の学習を実行してください。\")\n",
        "        return None, None, None\n",
        "\n",
        "    # Stage2学習を実行\n",
        "    try:\n",
        "        revenues, menu, ir_rates = run_stage2_with_beta_freeze_control(\n",
        "            flow_model=flow,\n",
        "            config=stage2_config,\n",
        "            device=device\n",
        "        )\n",
        "\n",
        "        print(f\"\\n🎉 Stage2学習完了!\")\n",
        "        print(f\"最終収益: {revenues[-1]:.6f}\")\n",
        "        print(f\"最終IR制約満足率: {ir_rates[-1]:.3f}\")\n",
        "\n",
        "        return revenues, menu, ir_rates\n",
        "\n",
        "    except Exception as e:\n",
        "        print(f\"❌ Stage2学習中にエラーが発生しました: {e}\")\n",
        "        return None, None, None\n"
      ],
      "metadata": {
        "collapsed": true,
        "colab": {
          "base_uri": "https://localhost:8080/"
        },
        "id": "_QXYukVjX7in",
        "outputId": "1721588f-db59-4aef-d58f-94c14661feba"
      },
      "execution_count": 22,
      "outputs": [
        {
          "output_type": "stream",
          "name": "stdout",
          "text": [
            "Looking in indexes: https://download.pytorch.org/whl/cu121\n",
            "Requirement already satisfied: torch in /usr/local/lib/python3.12/dist-packages (2.8.0+cu126)\n",
            "Requirement already satisfied: torchvision in /usr/local/lib/python3.12/dist-packages (0.23.0+cu126)\n",
            "Requirement already satisfied: torchaudio in /usr/local/lib/python3.12/dist-packages (2.8.0+cu126)\n",
            "Requirement already satisfied: filelock in /usr/local/lib/python3.12/dist-packages (from torch) (3.20.0)\n",
            "Requirement already satisfied: typing-extensions>=4.10.0 in /usr/local/lib/python3.12/dist-packages (from torch) (4.15.0)\n",
            "Requirement already satisfied: setuptools in /usr/local/lib/python3.12/dist-packages (from torch) (75.2.0)\n",
            "Requirement already satisfied: sympy>=1.13.3 in /usr/local/lib/python3.12/dist-packages (from torch) (1.13.3)\n",
            "Requirement already satisfied: networkx in /usr/local/lib/python3.12/dist-packages (from torch) (3.5)\n",
            "Requirement already satisfied: jinja2 in /usr/local/lib/python3.12/dist-packages (from torch) (3.1.6)\n",
            "Requirement already satisfied: fsspec in /usr/local/lib/python3.12/dist-packages (from torch) (2025.3.0)\n",
            "Requirement already satisfied: nvidia-cuda-nvrtc-cu12==12.6.77 in /usr/local/lib/python3.12/dist-packages (from torch) (12.6.77)\n",
            "Requirement already satisfied: nvidia-cuda-runtime-cu12==12.6.77 in /usr/local/lib/python3.12/dist-packages (from torch) (12.6.77)\n",
            "Requirement already satisfied: nvidia-cuda-cupti-cu12==12.6.80 in /usr/local/lib/python3.12/dist-packages (from torch) (12.6.80)\n",
            "Requirement already satisfied: nvidia-cudnn-cu12==9.10.2.21 in /usr/local/lib/python3.12/dist-packages (from torch) (9.10.2.21)\n",
            "Requirement already satisfied: nvidia-cublas-cu12==12.6.4.1 in /usr/local/lib/python3.12/dist-packages (from torch) (12.6.4.1)\n",
            "Requirement already satisfied: nvidia-cufft-cu12==11.3.0.4 in /usr/local/lib/python3.12/dist-packages (from torch) (11.3.0.4)\n",
            "Requirement already satisfied: nvidia-curand-cu12==10.3.7.77 in /usr/local/lib/python3.12/dist-packages (from torch) (10.3.7.77)\n",
            "Requirement already satisfied: nvidia-cusolver-cu12==11.7.1.2 in /usr/local/lib/python3.12/dist-packages (from torch) (11.7.1.2)\n",
            "Requirement already satisfied: nvidia-cusparse-cu12==12.5.4.2 in /usr/local/lib/python3.12/dist-packages (from torch) (12.5.4.2)\n",
            "Requirement already satisfied: nvidia-cusparselt-cu12==0.7.1 in /usr/local/lib/python3.12/dist-packages (from torch) (0.7.1)\n",
            "Requirement already satisfied: nvidia-nccl-cu12==2.27.3 in /usr/local/lib/python3.12/dist-packages (from torch) (2.27.3)\n",
            "Requirement already satisfied: nvidia-nvtx-cu12==12.6.77 in /usr/local/lib/python3.12/dist-packages (from torch) (12.6.77)\n",
            "Requirement already satisfied: nvidia-nvjitlink-cu12==12.6.85 in /usr/local/lib/python3.12/dist-packages (from torch) (12.6.85)\n",
            "Requirement already satisfied: nvidia-cufile-cu12==1.11.1.6 in /usr/local/lib/python3.12/dist-packages (from torch) (1.11.1.6)\n",
            "Requirement already satisfied: triton==3.4.0 in /usr/local/lib/python3.12/dist-packages (from torch) (3.4.0)\n",
            "Requirement already satisfied: numpy in /usr/local/lib/python3.12/dist-packages (from torchvision) (2.0.2)\n",
            "Requirement already satisfied: pillow!=8.3.*,>=5.3.0 in /usr/local/lib/python3.12/dist-packages (from torchvision) (11.3.0)\n",
            "Requirement already satisfied: mpmath<1.4,>=1.1.0 in /usr/local/lib/python3.12/dist-packages (from sympy>=1.13.3->torch) (1.3.0)\n",
            "Requirement already satisfied: MarkupSafe>=2.0 in /usr/local/lib/python3.12/dist-packages (from jinja2->torch) (3.0.3)\n",
            "Requirement already satisfied: omegaconf in /usr/local/lib/python3.12/dist-packages (2.3.0)\n",
            "Requirement already satisfied: tqdm in /usr/local/lib/python3.12/dist-packages (4.67.1)\n",
            "Requirement already satisfied: numpy in /usr/local/lib/python3.12/dist-packages (2.0.2)\n",
            "Requirement already satisfied: matplotlib in /usr/local/lib/python3.12/dist-packages (3.10.0)\n",
            "Requirement already satisfied: seaborn in /usr/local/lib/python3.12/dist-packages (0.13.2)\n",
            "Requirement already satisfied: antlr4-python3-runtime==4.9.* in /usr/local/lib/python3.12/dist-packages (from omegaconf) (4.9.3)\n",
            "Requirement already satisfied: PyYAML>=5.1.0 in /usr/local/lib/python3.12/dist-packages (from omegaconf) (6.0.3)\n",
            "Requirement already satisfied: contourpy>=1.0.1 in /usr/local/lib/python3.12/dist-packages (from matplotlib) (1.3.3)\n",
            "Requirement already satisfied: cycler>=0.10 in /usr/local/lib/python3.12/dist-packages (from matplotlib) (0.12.1)\n",
            "Requirement already satisfied: fonttools>=4.22.0 in /usr/local/lib/python3.12/dist-packages (from matplotlib) (4.60.1)\n",
            "Requirement already satisfied: kiwisolver>=1.3.1 in /usr/local/lib/python3.12/dist-packages (from matplotlib) (1.4.9)\n",
            "Requirement already satisfied: packaging>=20.0 in /usr/local/lib/python3.12/dist-packages (from matplotlib) (25.0)\n",
            "Requirement already satisfied: pillow>=8 in /usr/local/lib/python3.12/dist-packages (from matplotlib) (11.3.0)\n",
            "Requirement already satisfied: pyparsing>=2.3.1 in /usr/local/lib/python3.12/dist-packages (from matplotlib) (3.2.5)\n",
            "Requirement already satisfied: python-dateutil>=2.7 in /usr/local/lib/python3.12/dist-packages (from matplotlib) (2.9.0.post0)\n",
            "Requirement already satisfied: pandas>=1.2 in /usr/local/lib/python3.12/dist-packages (from seaborn) (2.2.2)\n",
            "Requirement already satisfied: pytz>=2020.1 in /usr/local/lib/python3.12/dist-packages (from pandas>=1.2->seaborn) (2025.2)\n",
            "Requirement already satisfied: tzdata>=2022.7 in /usr/local/lib/python3.12/dist-packages (from pandas>=1.2->seaborn) (2025.2)\n",
            "Requirement already satisfied: six>=1.5 in /usr/local/lib/python3.12/dist-packages (from python-dateutil>=2.7->matplotlib) (1.17.0)\n",
            "✅ All required packages and modules imported successfully\n",
            "✅ βパラメータ凍結制御付きStage2学習関数が定義されました\n",
            "✅ 使用例関数が定義されました\n",
            "\n",
            "📋 使用方法:\n",
            "1. Stage1の学習を実行してflowモデルを作成\n",
            "2. run_stage2_example()を実行してStage2学習を開始\n",
            "3. 結果を可視化して収束性を確認\n"
          ]
        }
      ]
    },
    {
      "cell_type": "code",
      "source": [
        "print(\"✅ 使用例関数が定義されました\")\n",
        "print(\"\\n📋 使用方法:\")\n",
        "print(\"1. Stage1の学習を実行してflowモデルを作成\")\n",
        "print(\"2. run_stage2_example()を実行してStage2学習を開始\")\n",
        "print(\"3. 結果を可視化して収束性を確認\")"
      ],
      "metadata": {
        "id": "KV6BqiT6YG2D"
      },
      "execution_count": null,
      "outputs": []
    },
    {
      "cell_type": "code",
      "source": [
        "revenues_corrected, menu_corrected, ir_rates = run_stage2_example()"
      ],
      "metadata": {
        "colab": {
          "base_uri": "https://localhost:8080/"
        },
        "id": "g6IBNDmEYA0a",
        "outputId": "32322a44-5f95-4466-ba28-94ce75d5e430"
      },
      "execution_count": 26,
      "outputs": [
        {
          "output_type": "stream",
          "name": "stdout",
          "text": [
            "Using device: cuda\n",
            "Stage2設定:\n",
            "  m: 10\n",
            "  K: 16\n",
            "  D: 4\n",
            "  iters: 2000\n",
            "  batch: 64\n",
            "  lr: 0.001\n",
            "  lam_start: 0.5\n",
            "  lam_end: 0.1\n",
            "  ode_steps: 25\n",
            "  n_val: 200\n",
            "  a: 32\n",
            "  seed: 42\n",
            "  grad_clip: 1.0\n",
            "  freeze_beta_iters: 1000\n",
            "  warmup_iters: 500\n",
            "🚀 Stage2学習開始（βパラメータ凍結制御付き）\n",
            "✅ Flow model moved to cuda and frozen\n",
            "📊 Creating 200 XOR valuations...\n",
            "  Creating valuation 1/200\n",
            "  Creating valuation 101/200\n",
            "✅ Created 17 menu elements and 200 valuations\n",
            "🚀 Initial optimizer: 32 parameters (μ/w only)\n",
            "[50/2000] Revenue: 0.118374 λ:0.0500 IR:1.000 β frozen Time:17.2s\n",
            "[100/2000] Revenue: 0.118485 λ:0.1000 IR:1.000 β frozen Time:35.7s\n",
            "[150/2000] Revenue: 0.118706 λ:0.1500 IR:1.000 β frozen Time:53.7s\n",
            "[200/2000] Revenue: 0.119017 λ:0.2000 IR:1.000 β frozen Time:71.1s\n",
            "[250/2000] Revenue: 0.119507 λ:0.2500 IR:1.000 β frozen Time:88.6s\n",
            "[300/2000] Revenue: 0.119927 λ:0.3000 IR:1.000 β frozen Time:105.6s\n",
            "[350/2000] Revenue: 0.120498 λ:0.3500 IR:1.000 β frozen Time:123.4s\n",
            "[400/2000] Revenue: 0.121072 λ:0.4000 IR:1.000 β frozen Time:140.4s\n",
            "[450/2000] Revenue: 0.121847 λ:0.4500 IR:1.000 β frozen Time:158.2s\n",
            "[500/2000] Revenue: 0.122989 λ:0.5000 IR:1.000 β frozen Time:175.3s\n",
            "[550/2000] Revenue: 0.122950 λ:0.4867 IR:1.000 β frozen Time:192.5s\n",
            "[600/2000] Revenue: 0.122980 λ:0.4733 IR:1.000 β frozen Time:210.2s\n",
            "[650/2000] Revenue: 0.123052 λ:0.4600 IR:1.000 β frozen Time:227.2s\n",
            "[700/2000] Revenue: 0.123001 λ:0.4467 IR:1.000 β frozen Time:245.1s\n",
            "[750/2000] Revenue: 0.123240 λ:0.4333 IR:1.000 β frozen Time:262.2s\n",
            "[800/2000] Revenue: 0.123408 λ:0.4200 IR:1.000 β frozen Time:280.0s\n",
            "[850/2000] Revenue: 0.123482 λ:0.4067 IR:1.000 β frozen Time:297.1s\n",
            "[900/2000] Revenue: 0.123147 λ:0.3933 IR:1.000 β frozen Time:314.1s\n",
            "[950/2000] Revenue: 0.123093 λ:0.3800 IR:1.000 β frozen Time:331.9s\n",
            "[1000/2000] Revenue: 0.123009 λ:0.3667 IR:1.000 β frozen Time:348.9s\n",
            "\n",
            "[Iteration 1001] Unfreezing β parameters...\n",
            "[Iteration 1001] Now optimizing 48 parameters (μ/w/β)\n",
            "[1050/2000] Revenue: 0.128696 λ:0.3533 IR:1.000 β unfrozen Time:366.9s\n",
            "[1100/2000] Revenue: 0.134496 λ:0.3400 IR:1.000 β unfrozen Time:383.9s\n",
            "[1150/2000] Revenue: 0.141041 λ:0.3267 IR:1.000 β unfrozen Time:401.2s\n",
            "[1200/2000] Revenue: 0.147407 λ:0.3133 IR:1.000 β unfrozen Time:418.7s\n",
            "[1250/2000] Revenue: 0.154974 λ:0.3000 IR:1.000 β unfrozen Time:435.7s\n",
            "[1300/2000] Revenue: 0.162492 λ:0.2867 IR:1.000 β unfrozen Time:453.4s\n",
            "[1350/2000] Revenue: 0.170510 λ:0.2733 IR:1.000 β unfrozen Time:470.4s\n",
            "[1400/2000] Revenue: 0.179197 λ:0.2600 IR:1.000 β unfrozen Time:488.4s\n",
            "[1450/2000] Revenue: 0.188460 λ:0.2467 IR:1.000 β unfrozen Time:505.4s\n",
            "[1500/2000] Revenue: 0.198293 λ:0.2333 IR:1.000 β unfrozen Time:522.5s\n",
            "[1550/2000] Revenue: 0.208663 λ:0.2200 IR:1.000 β unfrozen Time:540.2s\n",
            "[1600/2000] Revenue: 0.219711 λ:0.2067 IR:1.000 β unfrozen Time:557.2s\n",
            "[1650/2000] Revenue: 0.231934 λ:0.1933 IR:1.000 β unfrozen Time:575.0s\n",
            "[1700/2000] Revenue: 0.244371 λ:0.1800 IR:1.000 β unfrozen Time:592.0s\n",
            "[1750/2000] Revenue: 0.257862 λ:0.1667 IR:1.000 β unfrozen Time:609.5s\n",
            "[1800/2000] Revenue: 0.272188 λ:0.1533 IR:1.000 β unfrozen Time:626.7s\n",
            "[1850/2000] Revenue: 0.287343 λ:0.1400 IR:1.000 β unfrozen Time:643.7s\n",
            "[1900/2000] Revenue: 0.303397 λ:0.1267 IR:1.000 β unfrozen Time:661.5s\n",
            "[1950/2000] Revenue: 0.320364 λ:0.1133 IR:1.000 β unfrozen Time:678.5s\n",
            "[2000/2000] Revenue: 0.338456 λ:0.1000 IR:1.000 β unfrozen Time:696.2s\n",
            "✅ Stage2学習完了! 最終収益: 0.338456\n",
            "最終IR制約満足率: 1.000\n",
            "総学習時間: 696.2秒\n",
            "\n",
            "🎉 Stage2学習完了!\n",
            "最終収益: 0.338456\n",
            "最終IR制約満足率: 1.000\n"
          ]
        }
      ]
    },
    {
      "cell_type": "markdown",
      "metadata": {
        "id": "oXxvJ8OoZO2x"
      },
      "source": [
        "## 5. Results Visualization\n",
        "\n",
        "Visualize the training results to examine menu contents and performance.\n"
      ]
    },
    {
      "cell_type": "code",
      "execution_count": 35,
      "metadata": {
        "colab": {
          "base_uri": "https://localhost:8080/",
          "height": 977
        },
        "id": "_zP1W4oATds7",
        "outputId": "3c8bf892-5d08-46f1-fb1b-34463f675afd"
      },
      "outputs": [
        {
          "output_type": "display_data",
          "data": {
            "text/plain": [
              "<Figure size 1500x1000 with 4 Axes>"
            ],
            "image/png": "[encoded data removed]"
          },
          "metadata": {}
        },
        {
          "output_type": "stream",
          "name": "stdout",
          "text": [
            "修正版結果:\n",
            " 最終収益: 0.338456\n",
            " 最終IR制約満足率: 1.000\n",
            " 価格範囲: 0.147 - 0.676\n",
            " 平均価格: 0.358\n"
          ]
        }
      ],
      "source": [
        "# 修正版結果の可視化\n",
        "fig, axes = plt.subplots(2, 2, figsize=(15, 10))\n",
        "\n",
        "# 1. 収益の推移\n",
        "axes[0, 0].plot(revenues_corrected)\n",
        "axes[0, 0].set_title('Revenue Progression (Corrected)')\n",
        "axes[0, 0].set_xlabel('Iteration')\n",
        "axes[0, 0].set_ylabel('Revenue')\n",
        "axes[0, 0].grid(True, alpha=0.3)\n",
        "\n",
        "# 3. 価格分布\n",
        "prices_corrected = [elem.price().detach().item() for elem in menu_corrected[:-1]]\n",
        "axes[1, 0].hist(prices_corrected, bins=20, alpha=0.7, edgecolor='black')\n",
        "axes[1, 0].set_title('Price Distribution (Corrected)')\n",
        "axes[1, 0].set_xlabel('Price')\n",
        "axes[1, 0].set_ylabel('Frequency')\n",
        "axes[1, 0].grid(True, alpha=0.3)\n",
        "\n",
        "# 4. βパラメータの推移（凍結解除のタイミングを表示）\n",
        "beta_values = [elem.beta_raw.detach().item() for elem in menu_corrected[:-1]]\n",
        "axes[1, 1].bar(range(len(beta_values)), beta_values, alpha=0.7, edgecolor='black')\n",
        "axes[1, 1].set_title('β Parameters (Raw Values)')\n",
        "axes[1, 1].set_xlabel('Menu Element')\n",
        "axes[1, 1].set_ylabel('β Raw Value')\n",
        "axes[1, 1].grid(True, alpha=0.3)\n",
        "\n",
        "plt.tight_layout()\n",
        "plt.show()\n",
        "\n",
        "print(f\"修正版結果:\")\n",
        "print(f\" 最終収益: {revenues_corrected[-1]:.6f}\")\n",
        "print(f\" 最終IR制約満足率: {ir_rates[-1]:.3f}\")\n",
        "print(f\" 価格範囲: {min(prices_corrected):.3f} - {max(prices_corrected):.3f}\")\n",
        "print(f\" 平均価格: {np.mean(prices_corrected):.3f}\")"
      ]
    }
  ],
  "metadata": {
    "accelerator": "GPU",
    "colab": {
      "gpuType": "T4",
      "provenance": []
    },
    "kernelspec": {
      "display_name": "Python 3",
      "name": "python3"
    },
    "language_info": {
      "codemirror_mode": {
        "name": "ipython",
        "version": 3
      },
      "file_extension": ".py",
      "mimetype": "text/x-python",
      "name": "python",
      "nbconvert_exporter": "python",
      "pygments_lexer": "ipython3",
      "version": "3.10.13"
    }
  },
  "nbformat": 4,
  "nbformat_minor": 0
}