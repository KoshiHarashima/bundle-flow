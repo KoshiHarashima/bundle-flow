{
  "nbformat": 4,
  "nbformat_minor": 0,
  "metadata": {
    "colab": {
      "provenance": [],
      "gpuType": "A100"
    },
    "kernelspec": {
      "name": "python3",
      "display_name": "Python 3"
    },
    "language_info": {
      "name": "python"
    },
    "accelerator": "GPU"
  },
  "cells": [
    {
      "cell_type": "markdown",
      "source": [
        "# BundleFlow Colab Demo\n",
        "\n",
        "**🎯 Rectified Flow–based menus for combinatorial auctions**\n",
        "\n",
        "このノートブックでは、BundleFlowの新しいAPI構造を使用して、組み合わせオークションのためのメニュー最適化をデモンストレーションします。\n",
        "\n",
        "## 📋 目次\n",
        "1. [環境セットアップ](#setup)\n",
        "2. [新しいAPI構造のデモ](#api-demo)\n",
        "3. [Stage1: Flow初期化](#stage1)\n",
        "4. [Stage2: Menu最適化](#stage2)\n",
        "5. [結果の可視化](#visualization)"
      ],
      "metadata": {
        "id": "alZCZAMShD7c"
      }
    },
    {
      "cell_type": "markdown",
      "source": [
        "## 1. 環境セットアップ\n",
        "\n",
        "まず、GPU環境を確認し、必要なパッケージをインストールします。"
      ],
      "metadata": {
        "id": "xCXIgKU9hGyP"
      }
    },
    {
      "cell_type": "code",
      "source": [
        "!nvidia-smi"
      ],
      "metadata": {
        "colab": {
          "base_uri": "https://localhost:8080/"
        },
        "id": "JPdUSm6bW5oX",
        "outputId": "103b74e6-3169-4d3a-a30f-2ef05ba65a60"
      },
      "execution_count": 1,
      "outputs": [
        {
          "output_type": "stream",
          "name": "stdout",
          "text": [
            "Sun Oct 12 08:04:53 2025       \n",
            "+-----------------------------------------------------------------------------------------+\n",
            "| NVIDIA-SMI 550.54.15              Driver Version: 550.54.15      CUDA Version: 12.4     |\n",
            "|-----------------------------------------+------------------------+----------------------+\n",
            "| GPU  Name                 Persistence-M | Bus-Id          Disp.A | Volatile Uncorr. ECC |\n",
            "| Fan  Temp   Perf          Pwr:Usage/Cap |           Memory-Usage | GPU-Util  Compute M. |\n",
            "|                                         |                        |               MIG M. |\n",
            "|=========================================+========================+======================|\n",
            "|   0  NVIDIA A100-SXM4-40GB          Off |   00000000:00:04.0 Off |                    0 |\n",
            "| N/A   33C    P0             45W /  400W |       0MiB /  40960MiB |      0%      Default |\n",
            "|                                         |                        |             Disabled |\n",
            "+-----------------------------------------+------------------------+----------------------+\n",
            "                                                                                         \n",
            "+-----------------------------------------------------------------------------------------+\n",
            "| Processes:                                                                              |\n",
            "|  GPU   GI   CI        PID   Type   Process name                              GPU Memory |\n",
            "|        ID   ID                                                               Usage      |\n",
            "|=========================================================================================|\n",
            "|  No running processes found                                                             |\n",
            "+-----------------------------------------------------------------------------------------+\n"
          ]
        }
      ]
    },
    {
      "cell_type": "code",
      "source": [
        "%pip install torch torchvision torchaudio --index-url https://download.pytorch.org/whl/cu121\n",
        "%pip install omegaconf tqdm numpy matplotlib seaborn"
      ],
      "metadata": {
        "colab": {
          "base_uri": "https://localhost:8080/"
        },
        "id": "hCgXVdrVc3Jl",
        "outputId": "db8ff572-3f52-4ca7-c183-7804a325dceb"
      },
      "execution_count": 2,
      "outputs": [
        {
          "output_type": "stream",
          "name": "stdout",
          "text": [
            "Looking in indexes: https://download.pytorch.org/whl/cu121\n",
            "Requirement already satisfied: torch in /usr/local/lib/python3.12/dist-packages (2.8.0+cu126)\n",
            "Requirement already satisfied: torchvision in /usr/local/lib/python3.12/dist-packages (0.23.0+cu126)\n",
            "Requirement already satisfied: torchaudio in /usr/local/lib/python3.12/dist-packages (2.8.0+cu126)\n",
            "Requirement already satisfied: filelock in /usr/local/lib/python3.12/dist-packages (from torch) (3.20.0)\n",
            "Requirement already satisfied: typing-extensions>=4.10.0 in /usr/local/lib/python3.12/dist-packages (from torch) (4.15.0)\n",
            "Requirement already satisfied: setuptools in /usr/local/lib/python3.12/dist-packages (from torch) (75.2.0)\n",
            "Requirement already satisfied: sympy>=1.13.3 in /usr/local/lib/python3.12/dist-packages (from torch) (1.13.3)\n",
            "Requirement already satisfied: networkx in /usr/local/lib/python3.12/dist-packages (from torch) (3.5)\n",
            "Requirement already satisfied: jinja2 in /usr/local/lib/python3.12/dist-packages (from torch) (3.1.6)\n",
            "Requirement already satisfied: fsspec in /usr/local/lib/python3.12/dist-packages (from torch) (2025.3.0)\n",
            "Requirement already satisfied: nvidia-cuda-nvrtc-cu12==12.6.77 in /usr/local/lib/python3.12/dist-packages (from torch) (12.6.77)\n",
            "Requirement already satisfied: nvidia-cuda-runtime-cu12==12.6.77 in /usr/local/lib/python3.12/dist-packages (from torch) (12.6.77)\n",
            "Requirement already satisfied: nvidia-cuda-cupti-cu12==12.6.80 in /usr/local/lib/python3.12/dist-packages (from torch) (12.6.80)\n",
            "Requirement already satisfied: nvidia-cudnn-cu12==9.10.2.21 in /usr/local/lib/python3.12/dist-packages (from torch) (9.10.2.21)\n",
            "Requirement already satisfied: nvidia-cublas-cu12==12.6.4.1 in /usr/local/lib/python3.12/dist-packages (from torch) (12.6.4.1)\n",
            "Requirement already satisfied: nvidia-cufft-cu12==11.3.0.4 in /usr/local/lib/python3.12/dist-packages (from torch) (11.3.0.4)\n",
            "Requirement already satisfied: nvidia-curand-cu12==10.3.7.77 in /usr/local/lib/python3.12/dist-packages (from torch) (10.3.7.77)\n",
            "Requirement already satisfied: nvidia-cusolver-cu12==11.7.1.2 in /usr/local/lib/python3.12/dist-packages (from torch) (11.7.1.2)\n",
            "Requirement already satisfied: nvidia-cusparse-cu12==12.5.4.2 in /usr/local/lib/python3.12/dist-packages (from torch) (12.5.4.2)\n",
            "Requirement already satisfied: nvidia-cusparselt-cu12==0.7.1 in /usr/local/lib/python3.12/dist-packages (from torch) (0.7.1)\n",
            "Requirement already satisfied: nvidia-nccl-cu12==2.27.3 in /usr/local/lib/python3.12/dist-packages (from torch) (2.27.3)\n",
            "Requirement already satisfied: nvidia-nvtx-cu12==12.6.77 in /usr/local/lib/python3.12/dist-packages (from torch) (12.6.77)\n",
            "Requirement already satisfied: nvidia-nvjitlink-cu12==12.6.85 in /usr/local/lib/python3.12/dist-packages (from torch) (12.6.85)\n",
            "Requirement already satisfied: nvidia-cufile-cu12==1.11.1.6 in /usr/local/lib/python3.12/dist-packages (from torch) (1.11.1.6)\n",
            "Requirement already satisfied: triton==3.4.0 in /usr/local/lib/python3.12/dist-packages (from torch) (3.4.0)\n",
            "Requirement already satisfied: numpy in /usr/local/lib/python3.12/dist-packages (from torchvision) (2.0.2)\n",
            "Requirement already satisfied: pillow!=8.3.*,>=5.3.0 in /usr/local/lib/python3.12/dist-packages (from torchvision) (11.3.0)\n",
            "Requirement already satisfied: mpmath<1.4,>=1.1.0 in /usr/local/lib/python3.12/dist-packages (from sympy>=1.13.3->torch) (1.3.0)\n",
            "Requirement already satisfied: MarkupSafe>=2.0 in /usr/local/lib/python3.12/dist-packages (from jinja2->torch) (3.0.3)\n",
            "Requirement already satisfied: omegaconf in /usr/local/lib/python3.12/dist-packages (2.3.0)\n",
            "Requirement already satisfied: tqdm in /usr/local/lib/python3.12/dist-packages (4.67.1)\n",
            "Requirement already satisfied: numpy in /usr/local/lib/python3.12/dist-packages (2.0.2)\n",
            "Requirement already satisfied: matplotlib in /usr/local/lib/python3.12/dist-packages (3.10.0)\n",
            "Requirement already satisfied: seaborn in /usr/local/lib/python3.12/dist-packages (0.13.2)\n",
            "Requirement already satisfied: antlr4-python3-runtime==4.9.* in /usr/local/lib/python3.12/dist-packages (from omegaconf) (4.9.3)\n",
            "Requirement already satisfied: PyYAML>=5.1.0 in /usr/local/lib/python3.12/dist-packages (from omegaconf) (6.0.3)\n",
            "Requirement already satisfied: contourpy>=1.0.1 in /usr/local/lib/python3.12/dist-packages (from matplotlib) (1.3.3)\n",
            "Requirement already satisfied: cycler>=0.10 in /usr/local/lib/python3.12/dist-packages (from matplotlib) (0.12.1)\n",
            "Requirement already satisfied: fonttools>=4.22.0 in /usr/local/lib/python3.12/dist-packages (from matplotlib) (4.60.1)\n",
            "Requirement already satisfied: kiwisolver>=1.3.1 in /usr/local/lib/python3.12/dist-packages (from matplotlib) (1.4.9)\n",
            "Requirement already satisfied: packaging>=20.0 in /usr/local/lib/python3.12/dist-packages (from matplotlib) (25.0)\n",
            "Requirement already satisfied: pillow>=8 in /usr/local/lib/python3.12/dist-packages (from matplotlib) (11.3.0)\n",
            "Requirement already satisfied: pyparsing>=2.3.1 in /usr/local/lib/python3.12/dist-packages (from matplotlib) (3.2.5)\n",
            "Requirement already satisfied: python-dateutil>=2.7 in /usr/local/lib/python3.12/dist-packages (from matplotlib) (2.9.0.post0)\n",
            "Requirement already satisfied: pandas>=1.2 in /usr/local/lib/python3.12/dist-packages (from seaborn) (2.2.2)\n",
            "Requirement already satisfied: pytz>=2020.1 in /usr/local/lib/python3.12/dist-packages (from pandas>=1.2->seaborn) (2025.2)\n",
            "Requirement already satisfied: tzdata>=2022.7 in /usr/local/lib/python3.12/dist-packages (from pandas>=1.2->seaborn) (2025.2)\n",
            "Requirement already satisfied: six>=1.5 in /usr/local/lib/python3.12/dist-packages (from python-dateutil>=2.7->matplotlib) (1.17.0)\n"
          ]
        }
      ]
    },
    {
      "cell_type": "code",
      "source": [
        "# PyTorchとCUDAの確認\n",
        "import torch\n",
        "print(f\"PyTorch version: {torch.__version__}\")\n",
        "print(f\"CUDA available: {torch.cuda.is_available()}\")\n",
        "if torch.cuda.is_available():\n",
        "    print(f\"GPU: {torch.cuda.get_device_name(0)}\")\n",
        "    print(f\"GPU Memory: {torch.cuda.get_device_properties(0).total_memory / 1e9:.1f} GB\")\n"
      ],
      "metadata": {
        "colab": {
          "base_uri": "https://localhost:8080/"
        },
        "id": "RtCCUvL6c_ks",
        "outputId": "35f5ee79-6f18-4654-d7c9-8c5934465139"
      },
      "execution_count": 3,
      "outputs": [
        {
          "output_type": "stream",
          "name": "stdout",
          "text": [
            "PyTorch version: 2.8.0+cu126\n",
            "CUDA available: True\n",
            "GPU: NVIDIA A100-SXM4-40GB\n",
            "GPU Memory: 42.5 GB\n"
          ]
        }
      ]
    },
    {
      "cell_type": "code",
      "source": [
        "%pip install -e ./bundle-flow"
      ],
      "metadata": {
        "colab": {
          "base_uri": "https://localhost:8080/"
        },
        "id": "FIEd5F6ffocO",
        "outputId": "7c1f2688-1eac-4065-ff8c-412bbabe3969"
      },
      "execution_count": 21,
      "outputs": [
        {
          "output_type": "stream",
          "name": "stdout",
          "text": [
            "[Errno 2] No such file or directory: '/content/drive/MyDrive'\n",
            "/content\n",
            "Obtaining file:///content/bundle-flow\n",
            "  Installing build dependencies ... \u001b[?25l\u001b[?25hdone\n",
            "  Checking if build backend supports build_editable ... \u001b[?25l\u001b[?25hdone\n",
            "  Getting requirements to build editable ... \u001b[?25l\u001b[?25hdone\n",
            "  Preparing editable metadata (pyproject.toml) ... \u001b[?25l\u001b[?25hdone\n",
            "Requirement already satisfied: torch>=2.2 in /usr/local/lib/python3.12/dist-packages (from bundleflow==0.1.0) (2.8.0+cu126)\n",
            "Requirement already satisfied: omegaconf>=2.3 in /usr/local/lib/python3.12/dist-packages (from bundleflow==0.1.0) (2.3.0)\n",
            "Requirement already satisfied: tqdm in /usr/local/lib/python3.12/dist-packages (from bundleflow==0.1.0) (4.67.1)\n",
            "Requirement already satisfied: numpy in /usr/local/lib/python3.12/dist-packages (from bundleflow==0.1.0) (2.0.2)\n",
            "Requirement already satisfied: antlr4-python3-runtime==4.9.* in /usr/local/lib/python3.12/dist-packages (from omegaconf>=2.3->bundleflow==0.1.0) (4.9.3)\n",
            "Requirement already satisfied: PyYAML>=5.1.0 in /usr/local/lib/python3.12/dist-packages (from omegaconf>=2.3->bundleflow==0.1.0) (6.0.3)\n",
            "Requirement already satisfied: filelock in /usr/local/lib/python3.12/dist-packages (from torch>=2.2->bundleflow==0.1.0) (3.20.0)\n",
            "Requirement already satisfied: typing-extensions>=4.10.0 in /usr/local/lib/python3.12/dist-packages (from torch>=2.2->bundleflow==0.1.0) (4.15.0)\n",
            "Requirement already satisfied: setuptools in /usr/local/lib/python3.12/dist-packages (from torch>=2.2->bundleflow==0.1.0) (75.2.0)\n",
            "Requirement already satisfied: sympy>=1.13.3 in /usr/local/lib/python3.12/dist-packages (from torch>=2.2->bundleflow==0.1.0) (1.13.3)\n",
            "Requirement already satisfied: networkx in /usr/local/lib/python3.12/dist-packages (from torch>=2.2->bundleflow==0.1.0) (3.5)\n",
            "Requirement already satisfied: jinja2 in /usr/local/lib/python3.12/dist-packages (from torch>=2.2->bundleflow==0.1.0) (3.1.6)\n",
            "Requirement already satisfied: fsspec in /usr/local/lib/python3.12/dist-packages (from torch>=2.2->bundleflow==0.1.0) (2025.3.0)\n",
            "Requirement already satisfied: nvidia-cuda-nvrtc-cu12==12.6.77 in /usr/local/lib/python3.12/dist-packages (from torch>=2.2->bundleflow==0.1.0) (12.6.77)\n",
            "Requirement already satisfied: nvidia-cuda-runtime-cu12==12.6.77 in /usr/local/lib/python3.12/dist-packages (from torch>=2.2->bundleflow==0.1.0) (12.6.77)\n",
            "Requirement already satisfied: nvidia-cuda-cupti-cu12==12.6.80 in /usr/local/lib/python3.12/dist-packages (from torch>=2.2->bundleflow==0.1.0) (12.6.80)\n",
            "Requirement already satisfied: nvidia-cudnn-cu12==9.10.2.21 in /usr/local/lib/python3.12/dist-packages (from torch>=2.2->bundleflow==0.1.0) (9.10.2.21)\n",
            "Requirement already satisfied: nvidia-cublas-cu12==12.6.4.1 in /usr/local/lib/python3.12/dist-packages (from torch>=2.2->bundleflow==0.1.0) (12.6.4.1)\n",
            "Requirement already satisfied: nvidia-cufft-cu12==11.3.0.4 in /usr/local/lib/python3.12/dist-packages (from torch>=2.2->bundleflow==0.1.0) (11.3.0.4)\n",
            "Requirement already satisfied: nvidia-curand-cu12==10.3.7.77 in /usr/local/lib/python3.12/dist-packages (from torch>=2.2->bundleflow==0.1.0) (10.3.7.77)\n",
            "Requirement already satisfied: nvidia-cusolver-cu12==11.7.1.2 in /usr/local/lib/python3.12/dist-packages (from torch>=2.2->bundleflow==0.1.0) (11.7.1.2)\n",
            "Requirement already satisfied: nvidia-cusparse-cu12==12.5.4.2 in /usr/local/lib/python3.12/dist-packages (from torch>=2.2->bundleflow==0.1.0) (12.5.4.2)\n",
            "Requirement already satisfied: nvidia-cusparselt-cu12==0.7.1 in /usr/local/lib/python3.12/dist-packages (from torch>=2.2->bundleflow==0.1.0) (0.7.1)\n",
            "Requirement already satisfied: nvidia-nccl-cu12==2.27.3 in /usr/local/lib/python3.12/dist-packages (from torch>=2.2->bundleflow==0.1.0) (2.27.3)\n",
            "Requirement already satisfied: nvidia-nvtx-cu12==12.6.77 in /usr/local/lib/python3.12/dist-packages (from torch>=2.2->bundleflow==0.1.0) (12.6.77)\n",
            "Requirement already satisfied: nvidia-nvjitlink-cu12==12.6.85 in /usr/local/lib/python3.12/dist-packages (from torch>=2.2->bundleflow==0.1.0) (12.6.85)\n",
            "Requirement already satisfied: nvidia-cufile-cu12==1.11.1.6 in /usr/local/lib/python3.12/dist-packages (from torch>=2.2->bundleflow==0.1.0) (1.11.1.6)\n",
            "Requirement already satisfied: triton==3.4.0 in /usr/local/lib/python3.12/dist-packages (from torch>=2.2->bundleflow==0.1.0) (3.4.0)\n",
            "Requirement already satisfied: mpmath<1.4,>=1.1.0 in /usr/local/lib/python3.12/dist-packages (from sympy>=1.13.3->torch>=2.2->bundleflow==0.1.0) (1.3.0)\n",
            "Requirement already satisfied: MarkupSafe>=2.0 in /usr/local/lib/python3.12/dist-packages (from jinja2->torch>=2.2->bundleflow==0.1.0) (3.0.3)\n",
            "Building wheels for collected packages: bundleflow\n",
            "  Building editable for bundleflow (pyproject.toml) ... \u001b[?25l\u001b[?25hdone\n",
            "  Created wheel for bundleflow: filename=bundleflow-0.1.0-0.editable-py3-none-any.whl size=5381 sha256=1475c877764ac42d2261509be3ab4900998639df1703eafc034c471dab2a09e5\n",
            "  Stored in directory: /tmp/pip-ephem-wheel-cache-z6xtr7f5/wheels/aa/0d/ef/86434bfad24a089645d92e86964593aa2e3dc3368bcd8ec59f\n",
            "Successfully built bundleflow\n",
            "Installing collected packages: bundleflow\n",
            "  Attempting uninstall: bundleflow\n",
            "    Found existing installation: bundleflow 0.1.0\n",
            "    Uninstalling bundleflow-0.1.0:\n",
            "      Successfully uninstalled bundleflow-0.1.0\n",
            "Successfully installed bundleflow-0.1.0\n"
          ]
        }
      ]
    },
    {
      "cell_type": "code",
      "source": [
        "%ls ./bundle-flow"
      ],
      "metadata": {
        "colab": {
          "base_uri": "https://localhost:8080/"
        },
        "id": "g9SePosveRlp",
        "outputId": "c52cce53-ea2b-4783-86ac-d10cceed9465"
      },
      "execution_count": 17,
      "outputs": [
        {
          "output_type": "stream",
          "name": "stdout",
          "text": [
            "\u001b[0m\u001b[01;34mbundleflow\u001b[0m/           CITATION.cff          Makefile        RegretNet.ipynb\n",
            "\u001b[01;34mbundleflow.egg-info\u001b[0m/  COLAB_SETUP_GUIDE.md  MODEL.md        \u001b[01;34msrc\u001b[0m/\n",
            "BundleFlow.ipynb      \u001b[01;34mconf\u001b[0m/                 pyproject.toml  \u001b[01;34mtests\u001b[0m/\n",
            "\u001b[01;34mcheckpoints\u001b[0m/          LICENSE               README.md       \u001b[01;34mtools\u001b[0m/\n"
          ]
        }
      ]
    },
    {
      "cell_type": "markdown",
      "source": [
        "## 2. 新しいAPI構造のデモ\n",
        "\n",
        "BundleFlowの新しいAPI構造を紹介します。"
      ],
      "metadata": {
        "id": "wwRpDtyohMvw"
      }
    },
    {
      "cell_type": "code",
      "source": [
        "import sys\n",
        "import os\n",
        "import torch\n",
        "import numpy as np\n",
        "import matplotlib.pyplot as plt\n",
        "import seaborn as sns\n"
      ],
      "metadata": {
        "id": "7jaEah8mdEC3"
      },
      "execution_count": 9,
      "outputs": []
    },
    {
      "cell_type": "code",
      "source": [
        "%cd /content/bundle-flow"
      ],
      "metadata": {
        "colab": {
          "base_uri": "https://localhost:8080/"
        },
        "id": "NEt3UOkmf4JK",
        "outputId": "591a3135-dec1-4aa6-fc47-620196bdde6b"
      },
      "execution_count": 26,
      "outputs": [
        {
          "output_type": "stream",
          "name": "stdout",
          "text": [
            "/content/bundle-flow\n"
          ]
        }
      ]
    },
    {
      "cell_type": "code",
      "source": [
        "import sys\n",
        "sys.path.append('/content/bundle-flow/bundleflow')"
      ],
      "metadata": {
        "id": "eHGy9efrfxjz"
      },
      "execution_count": 28,
      "outputs": []
    },
    {
      "cell_type": "code",
      "source": [
        "# BundleFlowの新しいAPI\n",
        "from bundleflow.models.flow import BundleFlow\n",
        "from bundleflow.models.menu import MenuElement, Mechanism\n",
        "from bundleflow.valuation.valuation import XORValuation\n",
        "\n",
        "print(\"✅ 新しいAPI構造のインポートが完了しました\")\n",
        "print(f\"PyTorch device: {'cuda' if torch.cuda.is_available() else 'cpu'}\")"
      ],
      "metadata": {
        "colab": {
          "base_uri": "https://localhost:8080/"
        },
        "id": "N8BwXIUudZqd",
        "outputId": "2c0a20ff-9000-4fc1-89db-6c6fba3b7176"
      },
      "execution_count": 29,
      "outputs": [
        {
          "output_type": "stream",
          "name": "stdout",
          "text": [
            "✅ 新しいAPI構造のインポートが完了しました\n",
            "PyTorch device: cuda\n"
          ]
        }
      ]
    },
    {
      "cell_type": "code",
      "source": [
        "# 基本的なAPIのデモンストレーション\n",
        "device = torch.device('cuda' if torch.cuda.is_available() else 'cpu')\n",
        "print(f\"Using device: {device}\")\n",
        "\n",
        "# 1. BundleFlow（速度場ネットワーク）の作成\n",
        "m = 10  # 商品数\n",
        "flow = BundleFlow(m=m).to(device)\n",
        "print(f\"✅ BundleFlow created with m={m}\")\n",
        "\n",
        "# 2. 速度場の計算\n",
        "x = torch.randn(3, m, device=device)\n",
        "t = torch.rand(3, device=device)\n",
        "v = flow.velocity(x, t)\n",
        "print(f\"✅ Velocity field shape: {v.shape}\")\n",
        "\n",
        "# 3. MenuElement（メニュー要素）の作成\n",
        "D = 5  # 初期分布の混合成分数\n",
        "elem = MenuElement(m=m, D=D).to(device)\n",
        "price = elem.price()\n",
        "print(f\"✅ MenuElement created with price: {price.item():.4f}\")\n",
        "\n",
        "# 4. XORValuation（評価関数）の作成\n",
        "atoms = [([1, 2, 3], 5.0), ([4, 5], 3.0), ([6, 7, 8, 9], 8.0)]\n",
        "valuation = XORValuation.from_bundle_list(m, atoms)\n",
        "bundle = torch.tensor([1.0, 1.0, 1.0, 0.0, 0.0, 1.0, 1.0, 1.0, 1.0, 0.0])\n",
        "value = valuation.value(bundle)\n",
        "print(f\"✅ XORValuation value: {value:.4f}\")"
      ],
      "metadata": {
        "colab": {
          "base_uri": "https://localhost:8080/"
        },
        "id": "VfdUNFz4dF0q",
        "outputId": "9a485e33-d1f4-4c3c-88e5-b27850368ab1"
      },
      "execution_count": 30,
      "outputs": [
        {
          "output_type": "stream",
          "name": "stdout",
          "text": [
            "Using device: cuda\n",
            "✅ BundleFlow created with m=10\n",
            "✅ Velocity field shape: torch.Size([3, 10])\n",
            "✅ MenuElement created with price: 0.1892\n",
            "✅ XORValuation value: 8.0000\n"
          ]
        }
      ]
    },
    {
      "cell_type": "markdown",
      "source": [
        "## 3. Stage1: Flow初期化\n",
        "\n",
        "速度場ネットワークを学習して、連続変数から離散束への変換を学習します。"
      ],
      "metadata": {
        "id": "5O-4M0NahQ9i"
      }
    },
    {
      "cell_type": "code",
      "source": [
        "# Stage1の設定（小規模でデモ用）\n",
        "stage1_config = {\n",
        "    'm': 8,           # 商品数（小規模）\n",
        "    'D': 4,           # 混合成分数\n",
        "    'iters': 1000,    # イテレーション数（デモ用に短縮）\n",
        "    'batch': 256,     # バッチサイズ\n",
        "    'lr': 5e-3,       # 学習率\n",
        "    'sigma_z': 0.05,  # ノイズ標準偏差\n",
        "    'ode_steps': 25,  # ODE積分ステップ数\n",
        "    'seed': 42\n",
        "}\n",
        "\n",
        "print(\"Stage1設定:\")\n",
        "for key, value in stage1_config.items():\n",
        "    print(f\"  {key}: {value}\")"
      ],
      "metadata": {
        "colab": {
          "base_uri": "https://localhost:8080/"
        },
        "id": "7aSZebEWgN_m",
        "outputId": "10caf5a9-48a1-475b-db14-c2baa93cc090"
      },
      "execution_count": 32,
      "outputs": [
        {
          "output_type": "stream",
          "name": "stdout",
          "text": [
            "Stage1設定:\n",
            "  m: 8\n",
            "  D: 4\n",
            "  iters: 1000\n",
            "  batch: 256\n",
            "  lr: 0.005\n",
            "  sigma_z: 0.05\n",
            "  ode_steps: 25\n",
            "  seed: 42\n"
          ]
        }
      ]
    },
    {
      "cell_type": "code",
      "source": [
        "# Stage1学習の実行\n",
        "import random\n",
        "import time\n",
        "from torch import optim\n",
        "\n",
        "# 乱数固定\n",
        "random.seed(stage1_config['seed'])\n",
        "torch.manual_seed(stage1_config['seed'])\n",
        "if torch.cuda.is_available():\n",
        "    torch.cuda.manual_seed_all(stage1_config['seed'])\n",
        "\n",
        "# フローモデルの作成\n",
        "flow = BundleFlow(m=stage1_config['m']).to(device)\n",
        "optimizer = optim.Adam(flow.parameters(), lr=stage1_config['lr'])\n",
        "\n",
        "# 初期分布（混合Gaussian）\n",
        "mus = torch.empty(stage1_config['D'], stage1_config['m'], device=device).uniform_(-0.2, 1.2)\n",
        "sigmas = torch.full((stage1_config['D'],), 0.5, device=device)\n",
        "weights = torch.full((stage1_config['D'],), 1.0 / stage1_config['D'], device=device)\n",
        "\n",
        "print(f\"🚀 Stage1学習開始 (device: {device})\")\n",
        "print(f\"モデルパラメータ数: {sum(p.numel() for p in flow.parameters()):,}\")\n",
        "\n",
        "# 学習ループ\n",
        "losses = []\n",
        "start_time = time.time()\n",
        "\n",
        "for it in range(1, stage1_config['iters'] + 1):\n",
        "    # Rectified Flow損失の計算\n",
        "    loss = flow.rectified_flow_loss(\n",
        "        B=stage1_config['batch'],\n",
        "        mus=mus, sigmas=sigmas, weights=weights,\n",
        "        sigma_z=stage1_config['sigma_z']\n",
        "    )\n",
        "\n",
        "    # 最適化\n",
        "    optimizer.zero_grad()\n",
        "    loss.backward()\n",
        "    optimizer.step()\n",
        "\n",
        "    losses.append(loss.item())\n",
        "\n",
        "    # 進捗表示\n",
        "    if it % 100 == 0:\n",
        "        elapsed = time.time() - start_time\n",
        "        print(f\"[{it}/{stage1_config['iters']}] Loss: {loss.item():.6f} Time: {elapsed:.1f}s\")\n",
        "\n",
        "print(f\"✅ Stage1学習完了! 最終損失: {losses[-1]:.6f}\")\n",
        "print(f\"総学習時間: {time.time() - start_time:.1f}秒\")"
      ],
      "metadata": {
        "colab": {
          "base_uri": "https://localhost:8080/"
        },
        "id": "SEXANvsWgG4Y",
        "outputId": "6b8207b3-ffa5-45e7-8e66-9b84c46851fc"
      },
      "execution_count": 33,
      "outputs": [
        {
          "output_type": "stream",
          "name": "stdout",
          "text": [
            "🚀 Stage1学習開始 (device: cuda)\n",
            "モデルパラメータ数: 46,785\n",
            "[100/1000] Loss: 1.055905 Time: 1.3s\n",
            "[200/1000] Loss: 1.068040 Time: 1.8s\n",
            "[300/1000] Loss: 1.042970 Time: 2.3s\n",
            "[400/1000] Loss: 1.032094 Time: 2.9s\n",
            "[500/1000] Loss: 1.093827 Time: 3.4s\n",
            "[600/1000] Loss: 0.964741 Time: 3.9s\n",
            "[700/1000] Loss: 0.967673 Time: 4.5s\n",
            "[800/1000] Loss: 1.027453 Time: 5.0s\n",
            "[900/1000] Loss: 0.981791 Time: 5.5s\n",
            "[1000/1000] Loss: 1.076180 Time: 6.1s\n",
            "✅ Stage1学習完了! 最終損失: 1.076180\n",
            "総学習時間: 6.1秒\n"
          ]
        }
      ]
    },
    {
      "cell_type": "code",
      "source": [
        "plt.figure(figsize=(12, 4))\n",
        "\n",
        "# 損失の推移\n",
        "plt.subplot(1, 2, 1)\n",
        "plt.plot(losses)\n",
        "plt.title('Stage1: Rectified Flow Loss')\n",
        "plt.xlabel('Iteration')\n",
        "plt.ylabel('Loss')\n",
        "plt.yscale('log')\n",
        "plt.grid(True, alpha=0.3)\n",
        "\n",
        "# 束生成のテスト\n",
        "plt.subplot(1, 2, 2)\n",
        "with torch.no_grad():\n",
        "    # ランダムな初期値から束を生成\n",
        "    z = torch.randn(100, stage1_config['m'], device=device)\n",
        "    t_grid = torch.linspace(0.0, 1.0, steps=stage1_config['ode_steps'], device=device)\n",
        "    x_T = flow.flow_forward(z, t_grid)\n",
        "    bundles = flow.round_to_bundle(x_T)\n",
        "\n",
        "    # 束の多様性を計算\n",
        "    unique_bundles = torch.unique(bundles, dim=0)\n",
        "    diversity = len(unique_bundles) / (2 ** stage1_config['m'])\n",
        "\n",
        "    # 束の分布を可視化\n",
        "    bundle_sizes = bundles.sum(dim=1).cpu().numpy()\n",
        "    plt.hist(bundle_sizes, bins=range(stage1_config['m']+2), alpha=0.7, edgecolor='black')\n",
        "    plt.title(f'Bundle Size Distribution\\\\nDiversity: {diversity:.3f}')\n",
        "    plt.xlabel('Bundle Size')\n",
        "    plt.ylabel('Count')\n",
        "    plt.grid(True, alpha=0.3)\n",
        "\n",
        "plt.tight_layout()\n",
        "plt.show()\n",
        "\n",
        "print(f\"生成された束の多様性: {diversity:.3f} ({len(unique_bundles)}/{2**stage1_config['m']} ユニークな束)\")"
      ],
      "metadata": {
        "colab": {
          "base_uri": "https://localhost:8080/",
          "height": 325
        },
        "id": "Rl1io569gRfj",
        "outputId": "dd79bff5-323c-4768-cb38-f8a1d3d989be"
      },
      "execution_count": 37,
      "outputs": [
        {
          "output_type": "display_data",
          "data": {
            "text/plain": [
              "<Figure size 1200x400 with 2 Axes>"
            ],
            "image/png": "[encoded data removed]"
          },
          "metadata": {}
        },
        {
          "output_type": "stream",
          "name": "stdout",
          "text": [
            "生成された束の多様性: 0.230 (59/256 ユニークな束)\n"
          ]
        }
      ]
    },
    {
      "cell_type": "markdown",
      "source": [
        "## 4. Stage2: Menu最適化\n",
        "\n",
        "学習済みの速度場を使用して、メニュー要素（価格と初期分布）を最適化します。"
      ],
      "metadata": {
        "id": "NSRhlZ1vhWEG"
      }
    },
    {
      "cell_type": "code",
      "source": [
        "# Stage2の設定（小規模でデモ用）\n",
        "stage2_config = {\n",
        "    'K': 16,           # メニュー要素数（小規模）\n",
        "    'D': 4,            # 初期分布の混合成分数\n",
        "    'iters': 500,      # イテレーション数（デモ用に短縮）\n",
        "    'batch': 64,       # バッチサイズ\n",
        "    'lr': 3e-1,        # 学習率\n",
        "    'lam_start': 1e-3, # SoftMax温度の開始値\n",
        "    'lam_end': 0.1,    # SoftMax温度の終了値\n",
        "    'ode_steps': 25,   # ODE積分ステップ数\n",
        "    'n_val': 200,      # 評価関数の数（小規模）\n",
        "    'a': 8,            # XOR原子数（小規模）\n",
        "    'seed': 123\n",
        "}\n",
        "\n",
        "print(\"Stage2設定:\")\n",
        "for key, value in stage2_config.items():\n",
        "    print(f\"  {key}: {value}\")"
      ],
      "metadata": {
        "colab": {
          "base_uri": "https://localhost:8080/"
        },
        "id": "Y4y7FG-HgUl-",
        "outputId": "0c1814b6-790c-471a-d871-70e9e31653d1"
      },
      "execution_count": 38,
      "outputs": [
        {
          "output_type": "stream",
          "name": "stdout",
          "text": [
            "Stage2設定:\n",
            "  K: 16\n",
            "  D: 4\n",
            "  iters: 500\n",
            "  batch: 64\n",
            "  lr: 0.3\n",
            "  lam_start: 0.001\n",
            "  lam_end: 0.1\n",
            "  ode_steps: 25\n",
            "  n_val: 200\n",
            "  a: 8\n",
            "  seed: 123\n"
          ]
        }
      ]
    },
    {
      "cell_type": "code",
      "source": [
        "# 評価関数データの生成\n",
        "from bundleflow.data import gen_uniform_iid_xor\n",
        "\n",
        "# 乱数固定\n",
        "random.seed(stage2_config['seed'])\n",
        "torch.manual_seed(stage2_config['seed'])\n",
        "if torch.cuda.is_available():\n",
        "    torch.cuda.manual_seed_all(stage2_config['seed'])\n",
        "\n",
        "# 合成XOR評価関数を生成\n",
        "valuations = []\n",
        "for i in range(stage2_config['n_val']):\n",
        "    val = gen_uniform_iid_xor(\n",
        "        m=stage1_config['m'],\n",
        "        a=stage2_config['a'],\n",
        "        low=0.0,\n",
        "        high=1.0,\n",
        "        seed=1337 + i,\n",
        "        atom_size_mode='small'\n",
        "    )\n",
        "    valuations.append(val)\n",
        "\n",
        "print(f\"✅ {len(valuations)}個の評価関数を生成しました\")\n",
        "print(f\"最初の評価関数の原子数: {len(valuations[0].atoms)}\")\n",
        "\n",
        "# 評価関数の統計\n",
        "atom_counts = [len(v.atoms) for v in valuations]\n",
        "print(f\"原子数の統計: min={min(atom_counts)}, max={max(atom_counts)}, mean={np.mean(atom_counts):.1f}\")\n"
      ],
      "metadata": {
        "colab": {
          "base_uri": "https://localhost:8080/"
        },
        "id": "Er_Go6tMghiH",
        "outputId": "849bcc43-21c4-4388-b8ed-c6841217f848"
      },
      "execution_count": 39,
      "outputs": [
        {
          "output_type": "stream",
          "name": "stdout",
          "text": [
            "✅ 200個の評価関数を生成しました\n",
            "最初の評価関数の原子数: 8\n",
            "原子数の統計: min=8, max=8, mean=8.0\n"
          ]
        }
      ]
    },
    {
      "cell_type": "code",
      "source": [
        "# Stage2学習の実行\n",
        "from bundleflow.models.menu import make_null_element, revenue_loss\n",
        "\n",
        "# フローモデルを凍結（Stage1で学習済み）\n",
        "for p in flow.parameters():\n",
        "    p.requires_grad_(False)\n",
        "flow.eval()\n",
        "\n",
        "# メニュー要素の作成\n",
        "menu = [MenuElement(m=stage1_config['m'], D=stage2_config['D']) for _ in range(stage2_config['K'])]\n",
        "menu.append(make_null_element(stage1_config['m']))  # IR制約用のnull要素\n",
        "\n",
        "# メニュー要素をデバイスに移動\n",
        "for elem in menu:\n",
        "    elem.to(device)\n",
        "\n",
        "# オプティマイザー\n",
        "all_params = []\n",
        "for elem in menu:\n",
        "    all_params.extend(elem.parameters())\n",
        "optimizer = optim.Adam(all_params, lr=stage2_config['lr'])\n",
        "\n",
        "print(f\"🚀 Stage2学習開始 (device: {device})\")\n",
        "print(f\"メニュー要素数: {len(menu)}\")\n",
        "print(f\"学習パラメータ数: {sum(p.numel() for p in all_params):,}\")\n",
        "\n",
        "# 学習ループ\n",
        "revenues = []\n",
        "start_time = time.time()\n",
        "\n",
        "for it in range(1, stage2_config['iters'] + 1):\n",
        "    # バッチデータの準備\n",
        "    batch_size = min(stage2_config['batch'], len(valuations))\n",
        "    batch = random.sample(valuations, batch_size)\n",
        "\n",
        "    # 温度スケジューリング\n",
        "    lam = stage2_config['lam_start'] + (stage2_config['lam_end'] - stage2_config['lam_start']) * (it / stage2_config['iters'])\n",
        "\n",
        "    # 時間グリッド\n",
        "    t_grid = torch.linspace(0.0, 1.0, steps=stage2_config['ode_steps'], device=device)\n",
        "\n",
        "    # 収益損失の計算\n",
        "    loss = revenue_loss(flow, batch, menu, t_grid, lam=lam)\n",
        "\n",
        "    # 最適化\n",
        "    optimizer.zero_grad()\n",
        "    loss.backward()\n",
        "    optimizer.step()\n",
        "\n",
        "    # 収益の記録（負の損失が収益）\n",
        "    revenues.append(-loss.item())\n",
        "\n",
        "    # 進捗表示\n",
        "    if it % 50 == 0:\n",
        "        elapsed = time.time() - start_time\n",
        "        print(f\"[{it}/{stage2_config['iters']}] Revenue: {revenues[-1]:.6f} λ: {lam:.4f} Time: {elapsed:.1f}s\")\n",
        "\n",
        "print(f\"✅ Stage2学習完了! 最終収益: {revenues[-1]:.6f}\")\n",
        "print(f\"総学習時間: {time.time() - start_time:.1f}秒\")"
      ],
      "metadata": {
        "colab": {
          "base_uri": "https://localhost:8080/"
        },
        "id": "KBqGIZh9gi-U",
        "outputId": "c7c074d0-ab84-4e9a-8a18-3b9d4ad2172a"
      },
      "execution_count": 40,
      "outputs": [
        {
          "output_type": "stream",
          "name": "stdout",
          "text": [
            "🚀 Stage2学習開始 (device: cuda)\n",
            "メニュー要素数: 17\n",
            "学習パラメータ数: 602\n",
            "[50/500] Revenue: 9.348436 λ: 0.0109 Time: 15.9s\n",
            "[100/500] Revenue: 9.285476 λ: 0.0208 Time: 31.7s\n",
            "[150/500] Revenue: 9.216940 λ: 0.0307 Time: 47.4s\n",
            "[200/500] Revenue: 9.142439 λ: 0.0406 Time: 63.2s\n",
            "[250/500] Revenue: 9.061568 λ: 0.0505 Time: 79.0s\n",
            "[300/500] Revenue: 8.973931 λ: 0.0604 Time: 94.8s\n",
            "[350/500] Revenue: 8.879120 λ: 0.0703 Time: 110.6s\n",
            "[400/500] Revenue: 8.776744 λ: 0.0802 Time: 126.4s\n",
            "[450/500] Revenue: 8.666419 λ: 0.0901 Time: 142.2s\n",
            "[500/500] Revenue: 8.547792 λ: 0.1000 Time: 158.0s\n",
            "✅ Stage2学習完了! 最終収益: 8.547792\n",
            "総学習時間: 158.0秒\n"
          ]
        }
      ]
    },
    {
      "cell_type": "markdown",
      "source": [
        "## 5. 結果の可視化\n",
        "\n",
        "学習結果を可視化して、メニューの内容と性能を確認します。"
      ],
      "metadata": {
        "id": "X_tWuPd9hc6I"
      }
    },
    {
      "cell_type": "code",
      "source": [
        "# Stage2の結果可視化\n",
        "plt.figure(figsize=(15, 5))\n",
        "\n",
        "# 収益の推移\n",
        "plt.subplot(1, 3, 1)\n",
        "plt.plot(revenues)\n",
        "plt.title('Stage2: Revenue Optimization')\n",
        "plt.xlabel('Iteration')\n",
        "plt.ylabel('Revenue')\n",
        "plt.grid(True, alpha=0.3)\n",
        "\n",
        "# 価格の分布\n",
        "plt.subplot(1, 3, 2)\n",
        "prices = [elem.price().item() for elem in menu[:-1]]  # null要素を除く\n",
        "plt.hist(prices, bins=10, alpha=0.7, edgecolor='black')\n",
        "plt.title('Menu Price Distribution')\n",
        "plt.xlabel('Price')\n",
        "plt.ylabel('Count')\n",
        "plt.grid(True, alpha=0.3)\n",
        "\n",
        "# メニュー要素の重み分布\n",
        "plt.subplot(1, 3, 3)\n",
        "weights = [elem.weights.cpu().detach().numpy() for elem in menu[:-1]] # .detach().numpy() を追加\n",
        "weights_flat = np.concatenate(weights)\n",
        "plt.hist(weights_flat, bins=20, alpha=0.7, edgecolor='black')\n",
        "plt.title('Initial Distribution Weights')\n",
        "plt.xlabel('Weight')\n",
        "plt.ylabel('Count')\n",
        "plt.grid(True, alpha=0.3)\n",
        "\n",
        "plt.tight_layout()\n",
        "plt.show()\n",
        "\n",
        "print(f\"価格の統計: min={min(prices):.4f}, max={max(prices):.4f}, mean={np.mean(prices):.4f}\")"
      ],
      "metadata": {
        "colab": {
          "base_uri": "https://localhost:8080/",
          "height": 326
        },
        "id": "V7qhRu4ignjz",
        "outputId": "3cbacdd7-227d-45b7-b3ce-da3bb209a57c"
      },
      "execution_count": 42,
      "outputs": [
        {
          "output_type": "display_data",
          "data": {
            "text/plain": [
              "<Figure size 1500x500 with 3 Axes>"
            ],
            "image/png": "[encoded data removed]"
          },
          "metadata": {}
        },
        {
          "output_type": "stream",
          "name": "stdout",
          "text": [
            "価格の統計: min=10.0000, max=10.0000, mean=10.0000\n"
          ]
        }
      ]
    },
    {
      "cell_type": "code",
      "source": [
        "# メニューの詳細分析\n",
        "from bundleflow.models.menu import visualize_menu\n",
        "\n",
        "# メニューの可視化\n",
        "t_grid = torch.linspace(0.0, 1.0, steps=stage2_config['ode_steps'], device=device)\n",
        "visualize_menu(flow, menu, t_grid, max_items=8, device=device)\n",
        "\n",
        "# メカニズムの性能評価\n",
        "mechanism = Mechanism(flow, menu)\n",
        "test_valuations = valuations[:50]  # テスト用に50個使用\n",
        "\n",
        "# 期待収入の計算\n",
        "expected_revenue = mechanism.expected_revenue(test_valuations)\n",
        "print(f\"\\\\n📊 性能評価:\")\n",
        "print(f\"期待収入: {expected_revenue.item():.4f}\")\n",
        "\n",
        "# ハード割当での結果\n",
        "result = mechanism.argmax_menu(test_valuations)\n",
        "print(f\"ハード割当収入: {result['revenue'].item():.4f}\")\n",
        "print(f\"平均効用: {result['welfare'].item():.4f}\")\n",
        "print(f\"IR制約満足率: {result['ir_satisfied'].item():.4f}\")"
      ],
      "metadata": {
        "colab": {
          "base_uri": "https://localhost:8080/"
        },
        "id": "UDB7hkSugtdq",
        "outputId": "efd5b340-e47c-4edf-dcf2-cb5fa1efe768"
      },
      "execution_count": 43,
      "outputs": [
        {
          "output_type": "stream",
          "name": "stdout",
          "text": [
            "\n",
            "============================================================\n",
            "📋 MENU VISUALIZATION (showing first 8 items)\n",
            "============================================================\n",
            "\n",
            "🍽️  Menu Item 1: Price = 10.0000\n",
            "   📦 Generated bundles (1 unique):\n",
            "      1. [Empty bundle]\n",
            "\n",
            "🍽️  Menu Item 2: Price = 10.0000\n",
            "   📦 Generated bundles (1 unique):\n",
            "      1. [Empty bundle]\n",
            "\n",
            "🍽️  Menu Item 3: Price = 10.0000\n",
            "   📦 Generated bundles (1 unique):\n",
            "      1. [Empty bundle]\n",
            "\n",
            "🍽️  Menu Item 4: Price = 10.0000\n",
            "   📦 Generated bundles (1 unique):\n",
            "      1. [Empty bundle]\n",
            "\n",
            "🍽️  Menu Item 5: Price = 10.0000\n",
            "   📦 Generated bundles (1 unique):\n",
            "      1. [Empty bundle]\n",
            "\n",
            "🍽️  Menu Item 6: Price = 10.0000\n",
            "   📦 Generated bundles (1 unique):\n",
            "      1. [Empty bundle]\n",
            "\n",
            "🍽️  Menu Item 7: Price = 10.0000\n",
            "   📦 Generated bundles (1 unique):\n",
            "      1. [Empty bundle]\n",
            "\n",
            "🍽️  Menu Item 8: Price = 10.0000\n",
            "   📦 Generated bundles (1 unique):\n",
            "      1. [Empty bundle]\n",
            "\n",
            "... and 9 more menu items\n",
            "============================================================\n",
            "\n",
            "\\n📊 性能評価:\n",
            "期待収入: 8.5478\n",
            "ハード割当収入: 0.0000\n",
            "平均効用: 0.0000\n",
            "IR制約満足率: 1.0000\n"
          ]
        }
      ]
    },
    {
      "cell_type": "code",
      "source": [
        "plt.figure(figsize=(12, 4))\n",
        "\n",
        "# 各メニュー要素から生成される束の分析\n",
        "bundle_sizes = []\n",
        "bundle_diversities = []\n",
        "\n",
        "with torch.no_grad():\n",
        "    for i, elem in enumerate(menu[:5]):  # 最初の5要素を分析\n",
        "        # 束生成\n",
        "        s_T = flow.flow_forward(elem.mus, t_grid)\n",
        "        bundles = flow.round_to_bundle(s_T)\n",
        "\n",
        "        # 束サイズの分布\n",
        "        sizes = bundles.sum(dim=1).cpu().numpy()\n",
        "        bundle_sizes.extend(sizes)\n",
        "\n",
        "        # 多様性\n",
        "        unique_bundles = torch.unique(bundles, dim=0)\n",
        "        diversity = len(unique_bundles) / bundles.shape[0]\n",
        "        bundle_diversities.append(diversity)\n",
        "\n",
        "# 束サイズの分布\n",
        "plt.subplot(1, 2, 1)\n",
        "plt.hist(bundle_sizes, bins=range(stage1_config['m']+2), alpha=0.7, edgecolor='black')\n",
        "plt.title('Bundle Size Distribution\\\\n(All Menu Elements)')\n",
        "plt.xlabel('Bundle Size')\n",
        "plt.ylabel('Count')\n",
        "plt.grid(True, alpha=0.3)\n",
        "\n",
        "# 多様性の分布\n",
        "plt.subplot(1, 2, 2)\n",
        "plt.bar(range(len(bundle_diversities)), bundle_diversities, alpha=0.7, edgecolor='black')\n",
        "plt.title('Bundle Diversity per Menu Element')\n",
        "plt.xlabel('Menu Element Index')\n",
        "plt.ylabel('Diversity')\n",
        "plt.grid(True, alpha=0.3)\n",
        "\n",
        "plt.tight_layout()\n",
        "plt.show()\n",
        "\n",
        "print(f\"束サイズの統計: min={min(bundle_sizes)}, max={max(bundle_sizes)}, mean={np.mean(bundle_sizes):.1f}\")\n",
        "print(f\"多様性の統計: min={min(bundle_diversities):.3f}, max={max(bundle_diversities):.3f}, mean={np.mean(bundle_diversities):.3f}\")\n"
      ],
      "metadata": {
        "colab": {
          "base_uri": "https://localhost:8080/",
          "height": 342
        },
        "id": "WHJaewUcgwZK",
        "outputId": "cd07ea75-8ba3-442d-a2c5-f9555e9011a6"
      },
      "execution_count": 44,
      "outputs": [
        {
          "output_type": "display_data",
          "data": {
            "text/plain": [
              "<Figure size 1200x400 with 2 Axes>"
            ],
            "image/png": "[encoded data removed]"
          },
          "metadata": {}
        },
        {
          "output_type": "stream",
          "name": "stdout",
          "text": [
            "束サイズの統計: min=0.0, max=0.0, mean=0.0\n",
            "多様性の統計: min=0.250, max=0.250, mean=0.250\n"
          ]
        }
      ]
    },
    {
      "cell_type": "markdown",
      "source": [
        "## 🎉 まとめ\n",
        "\n",
        "このデモンストレーションでは、BundleFlowの新しいAPI構造を使用して、組み合わせオークションのためのメニュー最適化を実行しました。\n",
        "\n",
        "### 実行した内容\n",
        "1. **環境セットアップ**: GPU環境の確認とパッケージインストール\n",
        "2. **新しいAPI構造のデモ**: BundleFlow、MenuElement、XORValuationの基本機能\n",
        "3. **Stage1学習**: 速度場ネットワークの学習（連続→離散変換）\n",
        "4. **Stage2学習**: メニュー要素の最適化（価格と初期分布）\n",
        "5. **結果可視化**: 学習結果とメニュー性能の分析\n",
        "\n",
        "### 新しいAPI構造の利点\n",
        "- **明確な責務分離**: 速度場、メニュー要素、評価関数が独立\n",
        "- **型安全性**: 完全な型注釈とdocstring\n",
        "- **経済学的記号**: 論文と一致した記号体系\n",
        "- **後方互換性**: 既存コードも動作\n",
        "\n",
        "### 次のステップ\n",
        "- より大きな問題サイズでの実験\n",
        "- 異なる評価関数分布での性能比較\n",
        "- ハイパーパラメータの最適化\n",
        "- 実際のオークションデータでの検証\n",
        "\n",
        "---\n",
        "\n",
        "**📚 詳細な情報**: [MODEL.md](MODEL.md) - モデル記号と目的のドキュメント\n"
      ],
      "metadata": {
        "id": "8bR56kzVhgOo"
      }
    }
  ]
}